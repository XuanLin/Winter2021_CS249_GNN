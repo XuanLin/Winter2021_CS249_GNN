{
 "metadata": {
  "language_info": {
   "codemirror_mode": {
    "name": "ipython",
    "version": 3
   },
   "file_extension": ".py",
   "mimetype": "text/x-python",
   "name": "python",
   "nbconvert_exporter": "python",
   "pygments_lexer": "ipython3",
   "version": 3
  },
  "orig_nbformat": 2
 },
 "nbformat": 4,
 "nbformat_minor": 2,
 "cells": [
  {
   "source": [
    "### Questions\n",
    "\n",
    "\\[Single-Choice\\]\n",
    "\n",
    "1. Let $N_{in}$ denote the set of statements that can immediately precede the current statement. Then we always have the cardinality $|N_{in}|$ no greater than 2 in this paper.\n",
    "\n",
    "    a. True <br/>  \n",
    "    b. False\n",
    "    \n",
    "<br/>\n",
    "\n",
    "\\[Multiple-Choice\\]\n",
    "\n",
    "2. For a given step of interpretation t and statement n, what contributes to the hidden state of the pair $h_{t,n}$ in IPAGNN?\n",
    "\n",
    "    a. Soft instruction pointer $p_{t-1,n^{'}}$ for $n^{'} \\in N_{in}(n)$ <br/>\n",
    "    b. Soft instruction pointer $p_{t-1,n^{'}}$ for all $n^{'}$ <br/>\n",
    "    c. Soft branch decision $b_{t,n^{'},n}$ for $n^{'} \\in N_{in}(n)$ <br/>\n",
    "    d. State proposal $a_{t,n}^{(1)}$ <br/>\n",
    "\n",
    "<br/>\n",
    "\n",
    "\\[Single-Choice\\]\n",
    "\n",
    "3. Partial programs are constructed by masking one expression statement, selected uniformly random from variable assignments and multi-digit arithmetic statements.\n",
    "\n",
    "    a. True <br/>  \n",
    "    b. False\n"
   ],
   "cell_type": "markdown",
   "metadata": {}
  }
 ]
}