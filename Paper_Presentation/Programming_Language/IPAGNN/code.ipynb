{
 "metadata": {
  "language_info": {
   "codemirror_mode": {
    "name": "ipython",
    "version": 3
   },
   "file_extension": ".py",
   "mimetype": "text/x-python",
   "name": "python",
   "nbconvert_exporter": "python",
   "pygments_lexer": "ipython3",
   "version": "3.8.6-final"
  },
  "orig_nbformat": 2,
  "kernelspec": {
   "name": "python3",
   "display_name": "Python 3.8.6 64-bit",
   "metadata": {
    "interpreter": {
     "hash": "bc1622a5bda525863a156ecc31facbfc390a555e930a606b5e46d91261296387"
    }
   }
  }
 },
 "nbformat": 4,
 "nbformat_minor": 2,
 "cells": [
  {
   "source": [
    "# Data Generation\n",
    "An attempt at implementing the Context Free Grammar for Data Generation as described in the paper"
   ],
   "cell_type": "markdown",
   "metadata": {}
  },
  {
   "cell_type": "code",
   "execution_count": 13,
   "metadata": {},
   "outputs": [],
   "source": [
    "import random\n",
    "\n",
    "E = [\"v0 += {}\\n\", \"v0 -= {}\\n\", \"v0 *= {}\\n\"]\n",
    "O = [\">\", \"<\", \">=\", \"<=\"]\n",
    "C = \"v0 % 10 {} {}\"\n",
    "\n",
    "COMPLEXITY = 10\n",
    "length = 0\n",
    "\n",
    "\n",
    "def generate_expression():\n",
    "    n = random.randint(0, 9)\n",
    "    e = random.randint(0, 2)\n",
    "    return E[e].format(n)\n",
    "\n",
    "\n",
    "def generate_condition():\n",
    "    o = random.randint(0, 3)\n",
    "    n = random.randint(0, 9)\n",
    "\n",
    "    return C.format(O[o], n)\n",
    "\n",
    "\n",
    "def generate_statement(indent, in_loop=False):\n",
    "    global length\n",
    "    if length > COMPLEXITY - 1:\n",
    "        length += 1\n",
    "        return \"  \" * indent + generate_expression() + f\"exit(0)\\n\", False\n",
    "\n",
    "    s = random.randint(0, 6)\n",
    "    if s == 0:\n",
    "        length += 1\n",
    "        return \"  \" * indent + generate_expression(), in_loop\n",
    "    elif s == 1:\n",
    "        length += 1\n",
    "        block, _ = generate_block(indent + 1, in_loop=in_loop)\n",
    "        p = \"  \" * indent + f\"if {generate_condition()}:\\n{block}\"\n",
    "        return p, in_loop\n",
    "    elif s == 2:\n",
    "        length += 2\n",
    "        block1, _ = generate_block(indent + 1, in_loop=in_loop)\n",
    "        block2, _ = generate_block(indent + 1, in_loop=in_loop)\n",
    "        p = (\n",
    "            (\"  \" * indent + f\"if {generate_condition()}:\\n\")\n",
    "            + f\"{block1}\"\n",
    "            + (\"  \" * indent + f\"else:\\n\")\n",
    "            + f\"{block2}\"\n",
    "        )\n",
    "        return p, in_loop\n",
    "    elif s == 3:\n",
    "        length += 3\n",
    "        var = random.randint(1, 9)\n",
    "        block, _ = generate_block(indent + 1, in_loop=True)\n",
    "        p = (\n",
    "            \"  \" * indent\n",
    "            + f\"v{var} = {random.randint(0,9)}\\n\"\n",
    "            + \"  \" * indent\n",
    "            + f\"while v{var} > 0:\\n\"\n",
    "            + \"  \" * (indent + 1)\n",
    "            + f\"v{var} -= 1\\n{block}\"\n",
    "        )\n",
    "        return p, in_loop\n",
    "    elif s == 4:\n",
    "        if in_loop:\n",
    "            return \"  \" * indent + \"continue\\n\", in_loop\n",
    "        else:\n",
    "            s, il = generate_statement(indent, in_loop=in_loop)\n",
    "            return s, il\n",
    "    elif s == 5:\n",
    "        if in_loop:\n",
    "            return \"  \" * indent + \"break\\n\", in_loop\n",
    "        else:\n",
    "            s, il = generate_statement(indent, in_loop=in_loop)\n",
    "            return s, il\n",
    "    elif s == 6:\n",
    "        # return \"  \" * indent + \"pass\\n\", in_loop\n",
    "        s, il = generate_statement(indent, in_loop=in_loop)\n",
    "        return s, il\n",
    "\n",
    "\n",
    "def generate_block(indent, in_loop=False):\n",
    "    global length\n",
    "    if length > COMPLEXITY - 1:\n",
    "        return generate_statement(indent, in_loop=in_loop)\n",
    "\n",
    "    b = random.randint(0, 1)\n",
    "    if b == 0:\n",
    "        s, in_loop = generate_block(indent, in_loop=in_loop)\n",
    "        new_s, in_loop = generate_statement(indent, in_loop=in_loop)\n",
    "        s += new_s\n",
    "        return s, in_loop\n",
    "    else:\n",
    "        return generate_statement(indent, in_loop=in_loop)\n",
    "\n",
    "\n",
    "def initialize():\n",
    "    return f\"v0 = {random.randint(0,999)}\\n\"\n",
    "\n",
    "\n",
    "def generate_data():\n",
    "    p = initialize()\n",
    "    p += generate_block(0)[0]\n",
    "    lines = p.split(\"\\n\")[:14]\n",
    "    try:\n",
    "        ind = lines.index(\"exit(0)\")\n",
    "    except:\n",
    "        ind = len(lines)\n",
    "    lines = lines[: ind + 1]\n",
    "    print(\"\\n\".join(lines))\n",
    "    # print(f\"l: {length}\")\n"
   ]
  },
  {
   "cell_type": "code",
   "execution_count": 14,
   "metadata": {},
   "outputs": [
    {
     "output_type": "stream",
     "name": "stdout",
     "text": [
      "v0 = 505\nv2 = 4\nwhile v2 > 0:\n  v2 -= 1\n  if v0 % 10 <= 7:\n    break\n    if v0 % 10 < 0:\n      continue\n      if v0 % 10 >= 5:\n        break\n        v0 -= 7\n    else:\n      if v0 % 10 <= 6:\n        v5 = 3\n"
     ]
    }
   ],
   "source": [
    "generate_data()"
   ]
  },
  {
   "source": [
    "# Code Replication\n",
    "The code for the paper can be found at https://github.com/google-research/google-research/tree/master/ipagnn.\n",
    "Unfortunately, we cannot replicate the experiments since the authors do not provide the dataset as of now. Once they add the dataset, we will revisit this space and try to run some experiments."
   ],
   "cell_type": "markdown",
   "metadata": {}
  }
 ]
}