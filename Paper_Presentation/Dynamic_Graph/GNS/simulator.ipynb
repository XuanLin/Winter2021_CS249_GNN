{
 "cells": [
  {
   "cell_type": "code",
   "execution_count": null,
   "metadata": {
    "id": "CP5daJ4ouO3x"
   },
   "outputs": [],
   "source": [
    "!pip install -r learning_to_simulate/requirements.txt"
   ]
  },
  {
   "cell_type": "code",
   "execution_count": null,
   "metadata": {
    "id": "lAQwAxWovG_K"
   },
   "outputs": [],
   "source": [
    "!bash ./learning_to_simulate/download_dataset.sh WaterDropSample /tmp/datasets"
   ]
  },
  {
   "cell_type": "code",
   "execution_count": null,
   "metadata": {
    "id": "VkaOmQbNw8UR"
   },
   "outputs": [],
   "source": [
    "!mkdir -p /tmp/models\n",
    "!python -m learning_to_simulate.train \\\n",
    "    --data_path=/tmp/datasets/WaterDropSample \\\n",
    "    --model_path=/tmp/models/WaterDropSample \\\n",
    "    --num_steps=1000"
   ]
  },
  {
   "cell_type": "code",
   "execution_count": null,
   "metadata": {
    "id": "BTshha4a08ur"
   },
   "outputs": [],
   "source": [
    "!mkdir -p /tmp/rollouts\n",
    "!python -m learning_to_simulate.train \\\n",
    "    --mode=\"eval_rollout\" \\\n",
    "    --data_path=/tmp/datasets/WaterDropSample \\\n",
    "    --model_path=/tmp/models/WaterDropSample \\\n",
    "    --output_path=/tmp/rollouts/WaterDropSample \\"
   ]
  },
  {
   "cell_type": "code",
   "execution_count": null,
   "metadata": {},
   "outputs": [],
   "source": [
    "%matplotlib inline\n",
    "import pickle\n",
    "from matplotlib import animation\n",
    "import matplotlib.pyplot as plt\n",
    "import numpy as np\n",
    "from IPython.display import HTML\n",
    "\n",
    "TYPE_TO_COLOR = {\n",
    "    3: \"black\",  # Boundary particles.\n",
    "    0: \"green\",  # Rigid solids.\n",
    "    7: \"magenta\",  # Goop.\n",
    "    6: \"gold\",  # Sand.\n",
    "    5: \"blue\",  # Water.\n",
    "}\n",
    "\n",
    "\n",
    "def main():\n",
    "\n",
    "    with open('./rollout_test_0.pkl', \"rb\") as file:\n",
    "        rollout_data = pickle.load(file)\n",
    "\n",
    "    fig, axes = plt.subplots(1, 2, figsize=(10, 5))\n",
    "\n",
    "    plot_info = []\n",
    "    for ax_i, (label, rollout_field) in enumerate(\n",
    "      [(\"Ground truth\", \"ground_truth_rollout\"),\n",
    "       (\"Prediction\", \"predicted_rollout\")]):\n",
    "        # Append the initial positions to get the full trajectory.\n",
    "        trajectory = np.concatenate([\n",
    "            rollout_data[\"initial_positions\"],\n",
    "            rollout_data[rollout_field]], axis=0)\n",
    "        ax = axes[ax_i]\n",
    "        ax.set_title(label)\n",
    "        bounds = rollout_data[\"metadata\"][\"bounds\"]\n",
    "        ax.set_xlim(bounds[0][0], bounds[0][1])\n",
    "        ax.set_ylim(bounds[1][0], bounds[1][1])\n",
    "        ax.set_xticks([])\n",
    "        ax.set_yticks([])\n",
    "        ax.set_aspect(1.)\n",
    "        points = {\n",
    "            particle_type: ax.plot([], [], \"o\", ms=2, color=color)[0]\n",
    "            for particle_type, color in TYPE_TO_COLOR.items()}\n",
    "        plot_info.append((ax, trajectory, points))\n",
    "\n",
    "    num_steps = trajectory.shape[0]\n",
    "\n",
    "    def update(step_i):\n",
    "        outputs = []\n",
    "        for _, trajectory, points in plot_info:\n",
    "            for particle_type, line in points.items():\n",
    "                mask = rollout_data[\"particle_types\"] == particle_type\n",
    "                line.set_data(trajectory[step_i, mask, 0],\n",
    "                              trajectory[step_i, mask, 1])\n",
    "                outputs.append(line)\n",
    "        return outputs\n",
    "\n",
    "    unused_animation = animation.FuncAnimation(\n",
    "      fig, update,\n",
    "      frames=np.arange(0, num_steps, 3), interval=10)\n",
    "    return unused_animation\n",
    "\n",
    "\n",
    "\n",
    "anim = main()\n",
    "HTML(anim.to_jshtml())"
   ]
  }
 ],
 "metadata": {
  "accelerator": "GPU",
  "colab": {
   "authorship_tag": "ABX9TyOUBNDV+wTDSCSkjRsevL+M",
   "collapsed_sections": [],
   "name": "simulator.ipynb",
   "provenance": []
  },
  "kernelspec": {
   "display_name": "Python 3",
   "language": "python",
   "name": "python3"
  },
  "language_info": {
   "codemirror_mode": {
    "name": "ipython",
    "version": 3
   },
   "file_extension": ".py",
   "mimetype": "text/x-python",
   "name": "python",
   "nbconvert_exporter": "python",
   "pygments_lexer": "ipython3",
   "version": "3.6.5"
  }
 },
 "nbformat": 4,
 "nbformat_minor": 1
}
