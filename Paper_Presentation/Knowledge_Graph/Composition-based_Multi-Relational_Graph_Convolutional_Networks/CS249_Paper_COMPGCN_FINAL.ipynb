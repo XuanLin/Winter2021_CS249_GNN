{
  "nbformat": 4,
  "nbformat_minor": 0,
  "metadata": {
    "colab": {
      "name": "CS249-Paper-COMPGCN-FINAL.ipynb",
      "provenance": [],
      "collapsed_sections": [],
      "authorship_tag": "ABX9TyO4nZ6ZjjS2QdyMlxvCoe4E",
      "include_colab_link": true
    },
    "kernelspec": {
      "name": "python3",
      "display_name": "Python 3"
    },
    "accelerator": "GPU"
  },
  "cells": [
    {
      "cell_type": "markdown",
      "metadata": {
        "id": "view-in-github",
        "colab_type": "text"
      },
      "source": [
        "<a href=\"https://colab.research.google.com/github/yichousun/Winter2021_CS249_GNN/blob/main/Paper_Presentation/Knowledge_Graph/Composition-based_Multi-Relational_Graph_Convolutional_Networks/CS249_Paper_COMPGCN_FINAL.ipynb\" target=\"_parent\"><img src=\"https://colab.research.google.com/assets/colab-badge.svg\" alt=\"Open In Colab\"/></a>"
      ]
    },
    {
      "cell_type": "markdown",
      "metadata": {
        "id": "OcbvmmIwNc1U"
      },
      "source": [
        "# CS 249 ComGCN Model\n",
        "\n",
        "This is the a Google Collab Notebook demonstarting the CompGCN model. This is a step by step initialization and running of the code. The paper can be found at https://arxiv.org/abs/1911.03082. \n",
        "\n",
        "Paper - Shikhar Vashishth, Soumya Sanyal, Vikram Nitin, Partha Talukdar, Composition-based Multi-Relational Graph Convolutional Networks. ICLR 2020. https://arxiv.org/abs/1911.03082\n",
        "\n",
        "Presenters - Sripath Mishra (Mishra60@g.ucla.edu), Te-Lin Wu (telinwu@cs.ucla.edu)"
      ]
    },
    {
      "cell_type": "markdown",
      "metadata": {
        "id": "eDMV4_UDOXFy"
      },
      "source": [
        "Codebase Github Link - https://github.com/malllabiisc/CompGCN\n",
        "\n",
        "This codebase is compatible with PyTorch 1.0 and Python 3.x.\n",
        "\n",
        "Testing the python version of google collab."
      ]
    },
    {
      "cell_type": "code",
      "metadata": {
        "colab": {
          "base_uri": "https://localhost:8080/"
        },
        "id": "ajnqLsM6ACwB",
        "outputId": "aeffbfb2-bed7-4a50-b0da-8bf578d38f8e"
      },
      "source": [
        "!python --version"
      ],
      "execution_count": null,
      "outputs": [
        {
          "output_type": "stream",
          "text": [
            "Python 3.6.9\n"
          ],
          "name": "stdout"
        }
      ]
    },
    {
      "cell_type": "markdown",
      "metadata": {
        "id": "T-gDSfgHOvIN"
      },
      "source": [
        "Cloning the repository. "
      ]
    },
    {
      "cell_type": "code",
      "metadata": {
        "colab": {
          "base_uri": "https://localhost:8080/"
        },
        "id": "KTjGZzlMFZQ1",
        "outputId": "64c90e37-7364-43ab-db68-8a4e75f97fa6"
      },
      "source": [
        "! git clone https://github.com/malllabiisc/CompGCN\n"
      ],
      "execution_count": null,
      "outputs": [
        {
          "output_type": "stream",
          "text": [
            "Cloning into 'CompGCN'...\n",
            "remote: Enumerating objects: 78, done.\u001b[K\n",
            "remote: Counting objects: 100% (78/78), done.\u001b[K\n",
            "remote: Compressing objects: 100% (55/55), done.\u001b[K\n",
            "remote: Total 78 (delta 37), reused 51 (delta 21), pack-reused 0\u001b[K\n",
            "Unpacking objects: 100% (78/78), done.\n"
          ],
          "name": "stdout"
        }
      ]
    },
    {
      "cell_type": "code",
      "metadata": {
        "colab": {
          "base_uri": "https://localhost:8080/"
        },
        "id": "xkuASgO1gB1C",
        "outputId": "ce9ff74e-ab48-4b8b-c655-84932f8e85d7"
      },
      "source": [
        "%cd CompGCN"
      ],
      "execution_count": null,
      "outputs": [
        {
          "output_type": "stream",
          "text": [
            "/content/CompGCN\n"
          ],
          "name": "stdout"
        }
      ]
    },
    {
      "cell_type": "markdown",
      "metadata": {
        "id": "WmyrYV5SQsh8"
      },
      "source": [
        "# **Note** - \n",
        "Be carful when installing packages. Due to lack of maintanance on the repo the pakage versions are not latest. I higly suggest get the numpy, ordered_set, scikit_learn first. \n",
        "It is suggested to use pip and not pakage distributions like Anaconda as they are not latest/do not support other dependencies."
      ]
    },
    {
      "cell_type": "code",
      "metadata": {
        "colab": {
          "base_uri": "https://localhost:8080/"
        },
        "id": "XCsCAxUOFdFr",
        "outputId": "d710a05c-9856-4fe6-9527-5a884813aa0e"
      },
      "source": [
        "!pip install ordered_set\n",
        "!pip install numpy\n",
        "!pip install scikit_learn"
      ],
      "execution_count": null,
      "outputs": [
        {
          "output_type": "stream",
          "text": [
            "Collecting ordered_set\n",
            "  Downloading https://files.pythonhosted.org/packages/f5/ab/8252360bfe965bba31ec05112b3067bd129ce4800d89e0b85613bc6044f6/ordered-set-4.0.2.tar.gz\n",
            "Building wheels for collected packages: ordered-set\n",
            "  Building wheel for ordered-set (setup.py) ... \u001b[?25l\u001b[?25hdone\n",
            "  Created wheel for ordered-set: filename=ordered_set-4.0.2-py2.py3-none-any.whl size=8210 sha256=3ba0359e9dde08cc54b587c9ae437e725da8994603a344595063ad19bb763153\n",
            "  Stored in directory: /root/.cache/pip/wheels/e1/c6/9b/651d8a21d59b51a75ab9c070838f9231b8126421bc0569af47\n",
            "Successfully built ordered-set\n",
            "Installing collected packages: ordered-set\n",
            "Successfully installed ordered-set-4.0.2\n",
            "Requirement already satisfied: numpy in /usr/local/lib/python3.6/dist-packages (1.19.5)\n",
            "Requirement already satisfied: scikit_learn in /usr/local/lib/python3.6/dist-packages (0.22.2.post1)\n",
            "Requirement already satisfied: scipy>=0.17.0 in /usr/local/lib/python3.6/dist-packages (from scikit_learn) (1.4.1)\n",
            "Requirement already satisfied: numpy>=1.11.0 in /usr/local/lib/python3.6/dist-packages (from scikit_learn) (1.19.5)\n",
            "Requirement already satisfied: joblib>=0.11 in /usr/local/lib/python3.6/dist-packages (from scikit_learn) (1.0.0)\n"
          ],
          "name": "stdout"
        }
      ]
    },
    {
      "cell_type": "markdown",
      "metadata": {
        "id": "Z3kRBaeZRRUw"
      },
      "source": [
        "Before getting pytorch and torch-scatters check the Cuda version. The following command tells you the current CUDA version. It is highly suggested to use GPU  for running the code."
      ]
    },
    {
      "cell_type": "code",
      "metadata": {
        "colab": {
          "base_uri": "https://localhost:8080/"
        },
        "id": "s4dZDvd5FsBS",
        "outputId": "c3106353-6432-419d-8f98-9e4806c6cdf4"
      },
      "source": [
        "!nvidia-smi"
      ],
      "execution_count": null,
      "outputs": [
        {
          "output_type": "stream",
          "text": [
            "Sat Jan 16 02:17:10 2021       \n",
            "+-----------------------------------------------------------------------------+\n",
            "| NVIDIA-SMI 460.27.04    Driver Version: 418.67       CUDA Version: 10.1     |\n",
            "|-------------------------------+----------------------+----------------------+\n",
            "| GPU  Name        Persistence-M| Bus-Id        Disp.A | Volatile Uncorr. ECC |\n",
            "| Fan  Temp  Perf  Pwr:Usage/Cap|         Memory-Usage | GPU-Util  Compute M. |\n",
            "|                               |                      |               MIG M. |\n",
            "|===============================+======================+======================|\n",
            "|   0  Tesla T4            Off  | 00000000:00:04.0 Off |                    0 |\n",
            "| N/A   35C    P8     9W /  70W |      0MiB / 15079MiB |      0%      Default |\n",
            "|                               |                      |                 ERR! |\n",
            "+-------------------------------+----------------------+----------------------+\n",
            "                                                                               \n",
            "+-----------------------------------------------------------------------------+\n",
            "| Processes:                                                                  |\n",
            "|  GPU   GI   CI        PID   Type   Process name                  GPU Memory |\n",
            "|        ID   ID                                                   Usage      |\n",
            "|=============================================================================|\n",
            "|  No running processes found                                                 |\n",
            "+-----------------------------------------------------------------------------+\n"
          ],
          "name": "stdout"
        }
      ]
    },
    {
      "cell_type": "markdown",
      "metadata": {
        "id": "t4JYgifeRixS"
      },
      "source": [
        "Use the CUDA version and the machine information to get the pip install code for pytorch from https://pytorch.org/get-started/locally/"
      ]
    },
    {
      "cell_type": "code",
      "metadata": {
        "colab": {
          "base_uri": "https://localhost:8080/"
        },
        "id": "HXjiY8AmF0ov",
        "outputId": "a35950f7-8f7c-436a-f00f-0352536dd019"
      },
      "source": [
        "! pip install torch==1.7.1+cu101 torchvision==0.8.2+cu101 torchaudio==0.7.2 -f https://download.pytorch.org/whl/torch_stable.html"
      ],
      "execution_count": null,
      "outputs": [
        {
          "output_type": "stream",
          "text": [
            "Looking in links: https://download.pytorch.org/whl/torch_stable.html\n",
            "Collecting torch==1.7.1+cu101\n",
            "\u001b[?25l  Downloading https://download.pytorch.org/whl/cu101/torch-1.7.1%2Bcu101-cp36-cp36m-linux_x86_64.whl (735.4MB)\n",
            "\u001b[K     |████████████████████████████████| 735.4MB 24kB/s \n",
            "\u001b[?25hCollecting torchvision==0.8.2+cu101\n",
            "\u001b[?25l  Downloading https://download.pytorch.org/whl/cu101/torchvision-0.8.2%2Bcu101-cp36-cp36m-linux_x86_64.whl (12.8MB)\n",
            "\u001b[K     |████████████████████████████████| 12.8MB 251kB/s \n",
            "\u001b[?25hCollecting torchaudio==0.7.2\n",
            "\u001b[?25l  Downloading https://files.pythonhosted.org/packages/2a/f9/618434cf4e46dc975871e1516f5499abef6564ab4366f9b2321ee536be14/torchaudio-0.7.2-cp36-cp36m-manylinux1_x86_64.whl (7.6MB)\n",
            "\u001b[K     |████████████████████████████████| 7.6MB 8.5MB/s \n",
            "\u001b[?25hRequirement already satisfied: dataclasses; python_version < \"3.7\" in /usr/local/lib/python3.6/dist-packages (from torch==1.7.1+cu101) (0.8)\n",
            "Requirement already satisfied: typing-extensions in /usr/local/lib/python3.6/dist-packages (from torch==1.7.1+cu101) (3.7.4.3)\n",
            "Requirement already satisfied: numpy in /usr/local/lib/python3.6/dist-packages (from torch==1.7.1+cu101) (1.19.5)\n",
            "Requirement already satisfied: pillow>=4.1.1 in /usr/local/lib/python3.6/dist-packages (from torchvision==0.8.2+cu101) (7.0.0)\n",
            "Installing collected packages: torch, torchvision, torchaudio\n",
            "  Found existing installation: torch 1.7.0+cu101\n",
            "    Uninstalling torch-1.7.0+cu101:\n",
            "      Successfully uninstalled torch-1.7.0+cu101\n",
            "  Found existing installation: torchvision 0.8.1+cu101\n",
            "    Uninstalling torchvision-0.8.1+cu101:\n",
            "      Successfully uninstalled torchvision-0.8.1+cu101\n",
            "Successfully installed torch-1.7.1+cu101 torchaudio-0.7.2 torchvision-0.8.2+cu101\n"
          ],
          "name": "stdout"
        }
      ]
    },
    {
      "cell_type": "markdown",
      "metadata": {
        "id": "VgN0zYTJRxj-"
      },
      "source": [
        "Finally for the Torch-scatter use https://github.com/rusty1s/pytorch_scatter to get the pip command."
      ]
    },
    {
      "cell_type": "code",
      "metadata": {
        "colab": {
          "base_uri": "https://localhost:8080/"
        },
        "id": "RZT28VIpGW7R",
        "outputId": "bbd03908-6075-49a1-d420-e8faa0d3a6d8"
      },
      "source": [
        "! pip install torch-scatter -f https://pytorch-geometric.com/whl/torch-1.7.0+$cu101.html"
      ],
      "execution_count": null,
      "outputs": [
        {
          "output_type": "stream",
          "text": [
            "Looking in links: https://pytorch-geometric.com/whl/torch-1.7.0+.html\n",
            "Collecting torch-scatter\n",
            "  Downloading https://files.pythonhosted.org/packages/01/45/cd93ed3227248773ba8bc4b3beaa04e8bddb127a793a41bad875369951b3/torch_scatter-2.0.5.tar.gz\n",
            "Building wheels for collected packages: torch-scatter\n",
            "  Building wheel for torch-scatter (setup.py) ... \u001b[?25l\u001b[?25hdone\n",
            "  Created wheel for torch-scatter: filename=torch_scatter-2.0.5-cp36-cp36m-linux_x86_64.whl size=11776373 sha256=da1ee28cf762daafd44874ae12a3848bb5cf5fccb01d0474dcb77e80c6435d8c\n",
            "  Stored in directory: /root/.cache/pip/wheels/42/59/d3/9866e4fd8e1fe9260740acfe22322c428bc0dc064d3ebc456c\n",
            "Successfully built torch-scatter\n",
            "Installing collected packages: torch-scatter\n",
            "Successfully installed torch-scatter-2.0.5\n"
          ],
          "name": "stdout"
        }
      ]
    },
    {
      "cell_type": "markdown",
      "metadata": {
        "id": "DDgl4EZrSOto"
      },
      "source": [
        "The next Line extracts the compressed data from the data folder and make the required file structure."
      ]
    },
    {
      "cell_type": "code",
      "metadata": {
        "colab": {
          "base_uri": "https://localhost:8080/"
        },
        "id": "eeobY3C4GoLV",
        "outputId": "ee9bbcaa-2f4c-4d2e-ef52-e453ee4247d0"
      },
      "source": [
        "!chmod +x ./preprocess.sh\n",
        "! ./preprocess.sh"
      ],
      "execution_count": null,
      "outputs": [
        {
          "output_type": "stream",
          "text": [
            "Archive:  data_compressed/FB15k-237.zip\n",
            "   creating: data/FB15k-237/\n",
            "  inflating: data/FB15k-237/test.txt  \n",
            "  inflating: data/FB15k-237/train.txt  \n",
            "  inflating: data/FB15k-237/valid.txt  \n",
            "Archive:  data_compressed/WN18RR.zip\n",
            "   creating: data/WN18RR/\n",
            "  inflating: data/WN18RR/test.txt    \n",
            "  inflating: data/WN18RR/train.txt   \n",
            "  inflating: data/WN18RR/valid.txt   \n"
          ],
          "name": "stdout"
        }
      ]
    },
    {
      "cell_type": "markdown",
      "metadata": {
        "id": "TiFXBOwASdgD"
      },
      "source": [
        "# **Execution of code to get the presented results.**\n",
        "Note- Due to time constrains max epoch was set to 2. The default max value is 500. "
      ]
    },
    {
      "cell_type": "markdown",
      "metadata": {
        "id": "IVCf0f3eS32P"
      },
      "source": [
        "## 1) With TransE Score Function"
      ]
    },
    {
      "cell_type": "code",
      "metadata": {
        "colab": {
          "base_uri": "https://localhost:8080/"
        },
        "id": "lgDx3AdVGsDO",
        "outputId": "fbae02d8-fb12-42a0-ec9f-3a03e3fe8f4f"
      },
      "source": [
        "# CompGCN (Composition: Subtraction)\n",
        "!python run.py -score_func transe -opn sub -gamma 9 -hid_drop 0.1 -init_dim 200 -epoch 2"
      ],
      "execution_count": null,
      "outputs": [
        {
          "output_type": "stream",
          "text": [
            "2021-01-15 22:32:38,315 - [INFO] - {'name': 'testrun_15_01_2021_22:32:38', 'dataset': 'FB15k-237', 'model': 'compgcn', 'score_func': 'transe', 'opn': 'sub', 'batch_size': 128, 'gamma': 9.0, 'gpu': '0', 'max_epochs': 2, 'l2': 0.0, 'lr': 0.001, 'lbl_smooth': 0.1, 'num_workers': 10, 'seed': 41504, 'restore': False, 'bias': False, 'num_bases': -1, 'init_dim': 200, 'gcn_dim': 200, 'embed_dim': None, 'gcn_layer': 1, 'dropout': 0.1, 'hid_drop': 0.1, 'hid_drop2': 0.3, 'feat_drop': 0.3, 'k_w': 10, 'k_h': 20, 'num_filt': 200, 'ker_sz': 7, 'log_dir': './log/', 'config_dir': './config/'}\n",
            "{'batch_size': 128,\n",
            " 'bias': False,\n",
            " 'config_dir': './config/',\n",
            " 'dataset': 'FB15k-237',\n",
            " 'dropout': 0.1,\n",
            " 'embed_dim': None,\n",
            " 'feat_drop': 0.3,\n",
            " 'gamma': 9.0,\n",
            " 'gcn_dim': 200,\n",
            " 'gcn_layer': 1,\n",
            " 'gpu': '0',\n",
            " 'hid_drop': 0.1,\n",
            " 'hid_drop2': 0.3,\n",
            " 'init_dim': 200,\n",
            " 'k_h': 20,\n",
            " 'k_w': 10,\n",
            " 'ker_sz': 7,\n",
            " 'l2': 0.0,\n",
            " 'lbl_smooth': 0.1,\n",
            " 'log_dir': './log/',\n",
            " 'lr': 0.001,\n",
            " 'max_epochs': 2,\n",
            " 'model': 'compgcn',\n",
            " 'name': 'testrun_15_01_2021_22:32:38',\n",
            " 'num_bases': -1,\n",
            " 'num_filt': 200,\n",
            " 'num_workers': 10,\n",
            " 'opn': 'sub',\n",
            " 'restore': False,\n",
            " 'score_func': 'transe',\n",
            " 'seed': 41504}\n",
            "2021-01-15 22:32:47,458 - [INFO] - [E:0| 0]: Train Loss:0.092818,  Val MRR:0.0\ttestrun_15_01_2021_22:32:38\n",
            "2021-01-15 22:33:06,175 - [INFO] - [E:0| 100]: Train Loss:0.027633,  Val MRR:0.0\ttestrun_15_01_2021_22:32:38\n",
            "2021-01-15 22:33:25,111 - [INFO] - [E:0| 200]: Train Loss:0.024722,  Val MRR:0.0\ttestrun_15_01_2021_22:32:38\n",
            "2021-01-15 22:33:44,092 - [INFO] - [E:0| 300]: Train Loss:0.020408,  Val MRR:0.0\ttestrun_15_01_2021_22:32:38\n",
            "2021-01-15 22:34:03,158 - [INFO] - [E:0| 400]: Train Loss:0.018234,  Val MRR:0.0\ttestrun_15_01_2021_22:32:38\n",
            "2021-01-15 22:34:22,287 - [INFO] - [E:0| 500]: Train Loss:0.017209,  Val MRR:0.0\ttestrun_15_01_2021_22:32:38\n",
            "2021-01-15 22:34:41,469 - [INFO] - [E:0| 600]: Train Loss:0.016262,  Val MRR:0.0\ttestrun_15_01_2021_22:32:38\n",
            "2021-01-15 22:35:00,652 - [INFO] - [E:0| 700]: Train Loss:0.015661,  Val MRR:0.0\ttestrun_15_01_2021_22:32:38\n",
            "2021-01-15 22:35:19,860 - [INFO] - [E:0| 800]: Train Loss:0.014932,  Val MRR:0.0\ttestrun_15_01_2021_22:32:38\n",
            "2021-01-15 22:35:39,085 - [INFO] - [E:0| 900]: Train Loss:0.014504,  Val MRR:0.0\ttestrun_15_01_2021_22:32:38\n",
            "2021-01-15 22:35:58,411 - [INFO] - [E:0| 1000]: Train Loss:0.014081,  Val MRR:0.0\ttestrun_15_01_2021_22:32:38\n",
            "2021-01-15 22:36:17,796 - [INFO] - [E:0| 1100]: Train Loss:0.013655,  Val MRR:0.0\ttestrun_15_01_2021_22:32:38\n",
            "2021-01-15 22:36:31,223 - [INFO] - [Epoch:0]:  Training Loss:0.01339\n",
            "\n",
            "2021-01-15 22:36:31,782 - [INFO] - [Valid, Tail_Batch Step 0]\ttestrun_15_01_2021_22:32:38\n",
            "2021-01-15 22:36:39,433 - [INFO] - [Valid, Tail_Batch Step 100]\ttestrun_15_01_2021_22:32:38\n",
            "2021-01-15 22:36:43,242 - [INFO] - [Valid, Head_Batch Step 0]\ttestrun_15_01_2021_22:32:38\n",
            "2021-01-15 22:36:50,796 - [INFO] - [Valid, Head_Batch Step 100]\ttestrun_15_01_2021_22:32:38\n",
            "2021-01-15 22:36:53,724 - [INFO] - [Epoch 0 valid]: MRR: Tail : 0.09197, Head : 0.09772, Avg : 0.09484\n",
            "2021-01-15 22:36:53,819 - [INFO] - [Epoch 0]: Training Loss: 0.013388, Valid MRR: 0.09484\n",
            "\n",
            "\n",
            "2021-01-15 22:36:54,809 - [INFO] - [E:1| 0]: Train Loss:0.0060848,  Val MRR:0.09484\ttestrun_15_01_2021_22:32:38\n",
            "2021-01-15 22:37:14,054 - [INFO] - [E:1| 100]: Train Loss:0.010352,  Val MRR:0.09484\ttestrun_15_01_2021_22:32:38\n",
            "2021-01-15 22:37:33,379 - [INFO] - [E:1| 200]: Train Loss:0.0098437,  Val MRR:0.09484\ttestrun_15_01_2021_22:32:38\n",
            "2021-01-15 22:37:52,655 - [INFO] - [E:1| 300]: Train Loss:0.0093186,  Val MRR:0.09484\ttestrun_15_01_2021_22:32:38\n",
            "2021-01-15 22:38:11,922 - [INFO] - [E:1| 400]: Train Loss:0.0086879,  Val MRR:0.09484\ttestrun_15_01_2021_22:32:38\n",
            "2021-01-15 22:38:31,199 - [INFO] - [E:1| 500]: Train Loss:0.0083908,  Val MRR:0.09484\ttestrun_15_01_2021_22:32:38\n",
            "2021-01-15 22:38:50,485 - [INFO] - [E:1| 600]: Train Loss:0.0081962,  Val MRR:0.09484\ttestrun_15_01_2021_22:32:38\n",
            "2021-01-15 22:39:09,803 - [INFO] - [E:1| 700]: Train Loss:0.0081364,  Val MRR:0.09484\ttestrun_15_01_2021_22:32:38\n",
            "2021-01-15 22:39:29,128 - [INFO] - [E:1| 800]: Train Loss:0.0079374,  Val MRR:0.09484\ttestrun_15_01_2021_22:32:38\n",
            "2021-01-15 22:39:48,399 - [INFO] - [E:1| 900]: Train Loss:0.0078447,  Val MRR:0.09484\ttestrun_15_01_2021_22:32:38\n",
            "2021-01-15 22:40:07,694 - [INFO] - [E:1| 1000]: Train Loss:0.0081128,  Val MRR:0.09484\ttestrun_15_01_2021_22:32:38\n",
            "2021-01-15 22:40:26,996 - [INFO] - [E:1| 1100]: Train Loss:0.007975,  Val MRR:0.09484\ttestrun_15_01_2021_22:32:38\n",
            "2021-01-15 22:40:40,434 - [INFO] - [Epoch:1]:  Training Loss:0.007971\n",
            "\n",
            "2021-01-15 22:40:41,145 - [INFO] - [Valid, Tail_Batch Step 0]\ttestrun_15_01_2021_22:32:38\n",
            "2021-01-15 22:40:48,683 - [INFO] - [Valid, Tail_Batch Step 100]\ttestrun_15_01_2021_22:32:38\n",
            "2021-01-15 22:40:52,278 - [INFO] - [Valid, Head_Batch Step 0]\ttestrun_15_01_2021_22:32:38\n",
            "2021-01-15 22:40:59,997 - [INFO] - [Valid, Head_Batch Step 100]\ttestrun_15_01_2021_22:32:38\n",
            "2021-01-15 22:41:02,941 - [INFO] - [Epoch 1 valid]: MRR: Tail : 0.14717, Head : 0.13411, Avg : 0.14064\n",
            "2021-01-15 22:41:03,037 - [INFO] - [Epoch 1]: Training Loss: 0.0079715, Valid MRR: 0.14064\n",
            "\n",
            "\n",
            "2021-01-15 22:41:03,038 - [INFO] - Loading best model, Evaluating on Test data\n",
            "2021-01-15 22:41:03,853 - [INFO] - [Test, Tail_Batch Step 0]\ttestrun_15_01_2021_22:32:38\n",
            "2021-01-15 22:41:11,393 - [INFO] - [Test, Tail_Batch Step 100]\ttestrun_15_01_2021_22:32:38\n",
            "2021-01-15 22:41:16,665 - [INFO] - [Test, Head_Batch Step 0]\ttestrun_15_01_2021_22:32:38\n",
            "2021-01-15 22:41:24,413 - [INFO] - [Test, Head_Batch Step 100]\ttestrun_15_01_2021_22:32:38\n",
            "2021-01-15 22:41:29,068 - [INFO] - [Epoch 1 test]: MRR: Tail : 0.14441, Head : 0.13357, Avg : 0.13899\n"
          ],
          "name": "stdout"
        }
      ]
    },
    {
      "cell_type": "code",
      "metadata": {
        "colab": {
          "base_uri": "https://localhost:8080/"
        },
        "id": "ccXHjmgyLrUq",
        "outputId": "7fef72f3-8011-405d-dce7-0a86aac74d4f"
      },
      "source": [
        "# CompGCN (Composition: Multiplication)\n",
        "! python run.py -score_func transe -opn mult -gamma 9 -hid_drop 0.2 -init_dim 200 -epoch 2"
      ],
      "execution_count": null,
      "outputs": [
        {
          "output_type": "stream",
          "text": [
            "2021-01-15 22:50:28,418 - [INFO] - {'name': 'testrun_15_01_2021_22:50:28', 'dataset': 'FB15k-237', 'model': 'compgcn', 'score_func': 'transe', 'opn': 'mult', 'batch_size': 128, 'gamma': 9.0, 'gpu': '0', 'max_epochs': 2, 'l2': 0.0, 'lr': 0.001, 'lbl_smooth': 0.1, 'num_workers': 10, 'seed': 41504, 'restore': False, 'bias': False, 'num_bases': -1, 'init_dim': 200, 'gcn_dim': 200, 'embed_dim': None, 'gcn_layer': 1, 'dropout': 0.1, 'hid_drop': 0.2, 'hid_drop2': 0.3, 'feat_drop': 0.3, 'k_w': 10, 'k_h': 20, 'num_filt': 200, 'ker_sz': 7, 'log_dir': './log/', 'config_dir': './config/'}\n",
            "{'batch_size': 128,\n",
            " 'bias': False,\n",
            " 'config_dir': './config/',\n",
            " 'dataset': 'FB15k-237',\n",
            " 'dropout': 0.1,\n",
            " 'embed_dim': None,\n",
            " 'feat_drop': 0.3,\n",
            " 'gamma': 9.0,\n",
            " 'gcn_dim': 200,\n",
            " 'gcn_layer': 1,\n",
            " 'gpu': '0',\n",
            " 'hid_drop': 0.2,\n",
            " 'hid_drop2': 0.3,\n",
            " 'init_dim': 200,\n",
            " 'k_h': 20,\n",
            " 'k_w': 10,\n",
            " 'ker_sz': 7,\n",
            " 'l2': 0.0,\n",
            " 'lbl_smooth': 0.1,\n",
            " 'log_dir': './log/',\n",
            " 'lr': 0.001,\n",
            " 'max_epochs': 2,\n",
            " 'model': 'compgcn',\n",
            " 'name': 'testrun_15_01_2021_22:50:28',\n",
            " 'num_bases': -1,\n",
            " 'num_filt': 200,\n",
            " 'num_workers': 10,\n",
            " 'opn': 'mult',\n",
            " 'restore': False,\n",
            " 'score_func': 'transe',\n",
            " 'seed': 41504}\n",
            "2021-01-15 22:50:37,471 - [INFO] - [E:0| 0]: Train Loss:0.021852,  Val MRR:0.0\ttestrun_15_01_2021_22:50:28\n",
            "2021-01-15 22:50:56,199 - [INFO] - [E:0| 100]: Train Loss:0.0036843,  Val MRR:0.0\ttestrun_15_01_2021_22:50:28\n",
            "2021-01-15 22:51:15,039 - [INFO] - [E:0| 200]: Train Loss:0.0035714,  Val MRR:0.0\ttestrun_15_01_2021_22:50:28\n",
            "2021-01-15 22:51:33,964 - [INFO] - [E:0| 300]: Train Loss:0.0032662,  Val MRR:0.0\ttestrun_15_01_2021_22:50:28\n",
            "2021-01-15 22:51:52,931 - [INFO] - [E:0| 400]: Train Loss:0.0031642,  Val MRR:0.0\ttestrun_15_01_2021_22:50:28\n",
            "2021-01-15 22:52:11,938 - [INFO] - [E:0| 500]: Train Loss:0.0032346,  Val MRR:0.0\ttestrun_15_01_2021_22:50:28\n",
            "2021-01-15 22:52:31,003 - [INFO] - [E:0| 600]: Train Loss:0.0031714,  Val MRR:0.0\ttestrun_15_01_2021_22:50:28\n",
            "2021-01-15 22:52:50,153 - [INFO] - [E:0| 700]: Train Loss:0.0032302,  Val MRR:0.0\ttestrun_15_01_2021_22:50:28\n",
            "2021-01-15 22:53:09,351 - [INFO] - [E:0| 800]: Train Loss:0.0032039,  Val MRR:0.0\ttestrun_15_01_2021_22:50:28\n",
            "2021-01-15 22:53:28,622 - [INFO] - [E:0| 900]: Train Loss:0.0032715,  Val MRR:0.0\ttestrun_15_01_2021_22:50:28\n",
            "2021-01-15 22:53:47,879 - [INFO] - [E:0| 1000]: Train Loss:0.0032544,  Val MRR:0.0\ttestrun_15_01_2021_22:50:28\n",
            "2021-01-15 22:54:07,215 - [INFO] - [E:0| 1100]: Train Loss:0.003226,  Val MRR:0.0\ttestrun_15_01_2021_22:50:28\n",
            "2021-01-15 22:54:20,761 - [INFO] - [Epoch:0]:  Training Loss:0.003205\n",
            "\n",
            "2021-01-15 22:54:21,394 - [INFO] - [Valid, Tail_Batch Step 0]\ttestrun_15_01_2021_22:50:28\n",
            "2021-01-15 22:54:28,809 - [INFO] - [Valid, Tail_Batch Step 100]\ttestrun_15_01_2021_22:50:28\n",
            "2021-01-15 22:54:32,242 - [INFO] - [Valid, Head_Batch Step 0]\ttestrun_15_01_2021_22:50:28\n",
            "2021-01-15 22:54:39,931 - [INFO] - [Valid, Head_Batch Step 100]\ttestrun_15_01_2021_22:50:28\n",
            "2021-01-15 22:54:42,795 - [INFO] - [Epoch 0 valid]: MRR: Tail : 0.20346, Head : 0.13463, Avg : 0.16904\n",
            "2021-01-15 22:54:42,885 - [INFO] - [Epoch 0]: Training Loss: 0.0032046, Valid MRR: 0.16904\n",
            "\n",
            "\n",
            "2021-01-15 22:54:43,734 - [INFO] - [E:1| 0]: Train Loss:0.0028759,  Val MRR:0.16904\ttestrun_15_01_2021_22:50:28\n",
            "2021-01-15 22:55:03,148 - [INFO] - [E:1| 100]: Train Loss:0.0033179,  Val MRR:0.16904\ttestrun_15_01_2021_22:50:28\n",
            "2021-01-15 22:55:22,589 - [INFO] - [E:1| 200]: Train Loss:0.0038091,  Val MRR:0.16904\ttestrun_15_01_2021_22:50:28\n",
            "2021-01-15 22:55:42,137 - [INFO] - [E:1| 300]: Train Loss:0.004001,  Val MRR:0.16904\ttestrun_15_01_2021_22:50:28\n",
            "2021-01-15 22:56:01,673 - [INFO] - [E:1| 400]: Train Loss:0.0037974,  Val MRR:0.16904\ttestrun_15_01_2021_22:50:28\n",
            "2021-01-15 22:56:21,198 - [INFO] - [E:1| 500]: Train Loss:0.0037518,  Val MRR:0.16904\ttestrun_15_01_2021_22:50:28\n",
            "2021-01-15 22:56:40,772 - [INFO] - [E:1| 600]: Train Loss:0.0037194,  Val MRR:0.16904\ttestrun_15_01_2021_22:50:28\n",
            "2021-01-15 22:57:00,310 - [INFO] - [E:1| 700]: Train Loss:0.0036231,  Val MRR:0.16904\ttestrun_15_01_2021_22:50:28\n",
            "2021-01-15 22:57:19,887 - [INFO] - [E:1| 800]: Train Loss:0.0035206,  Val MRR:0.16904\ttestrun_15_01_2021_22:50:28\n",
            "2021-01-15 22:57:39,468 - [INFO] - [E:1| 900]: Train Loss:0.0034386,  Val MRR:0.16904\ttestrun_15_01_2021_22:50:28\n",
            "2021-01-15 22:57:59,039 - [INFO] - [E:1| 1000]: Train Loss:0.003537,  Val MRR:0.16904\ttestrun_15_01_2021_22:50:28\n",
            "2021-01-15 22:58:18,600 - [INFO] - [E:1| 1100]: Train Loss:0.0035048,  Val MRR:0.16904\ttestrun_15_01_2021_22:50:28\n",
            "2021-01-15 22:58:32,258 - [INFO] - [Epoch:1]:  Training Loss:0.003493\n",
            "\n",
            "2021-01-15 22:58:32,840 - [INFO] - [Valid, Tail_Batch Step 0]\ttestrun_15_01_2021_22:50:28\n",
            "2021-01-15 22:58:40,417 - [INFO] - [Valid, Tail_Batch Step 100]\ttestrun_15_01_2021_22:50:28\n",
            "2021-01-15 22:58:44,093 - [INFO] - [Valid, Head_Batch Step 0]\ttestrun_15_01_2021_22:50:28\n",
            "2021-01-15 22:58:51,629 - [INFO] - [Valid, Head_Batch Step 100]\ttestrun_15_01_2021_22:50:28\n",
            "2021-01-15 22:58:54,532 - [INFO] - [Epoch 1 valid]: MRR: Tail : 0.21451, Head : 0.14802, Avg : 0.18127\n",
            "2021-01-15 22:58:54,621 - [INFO] - [Epoch 1]: Training Loss: 0.0034934, Valid MRR: 0.18127\n",
            "\n",
            "\n",
            "2021-01-15 22:58:54,622 - [INFO] - Loading best model, Evaluating on Test data\n",
            "2021-01-15 22:58:55,209 - [INFO] - [Test, Tail_Batch Step 0]\ttestrun_15_01_2021_22:50:28\n",
            "2021-01-15 22:59:02,820 - [INFO] - [Test, Tail_Batch Step 100]\ttestrun_15_01_2021_22:50:28\n",
            "2021-01-15 22:59:08,046 - [INFO] - [Test, Head_Batch Step 0]\ttestrun_15_01_2021_22:50:28\n",
            "2021-01-15 22:59:15,806 - [INFO] - [Test, Head_Batch Step 100]\ttestrun_15_01_2021_22:50:28\n",
            "2021-01-15 22:59:20,442 - [INFO] - [Epoch 1 test]: MRR: Tail : 0.21642, Head : 0.14479, Avg : 0.18061\n"
          ],
          "name": "stdout"
        }
      ]
    },
    {
      "cell_type": "code",
      "metadata": {
        "colab": {
          "base_uri": "https://localhost:8080/"
        },
        "id": "KUG_9nXqL0BW",
        "outputId": "774e5180-6a6c-4347-9077-e2735e4350d6"
      },
      "source": [
        "# CompGCN (Composition: Circular Correlation)\n",
        "! python run.py -score_func transe -opn corr -gamma 40 -hid_drop 0.1 -init_dim 200 -epoch 2"
      ],
      "execution_count": null,
      "outputs": [
        {
          "output_type": "stream",
          "text": [
            "2021-01-15 23:03:04,379 - [INFO] - {'name': 'testrun_15_01_2021_23:03:04', 'dataset': 'FB15k-237', 'model': 'compgcn', 'score_func': 'transe', 'opn': 'corr', 'batch_size': 128, 'gamma': 40.0, 'gpu': '0', 'max_epochs': 2, 'l2': 0.0, 'lr': 0.001, 'lbl_smooth': 0.1, 'num_workers': 10, 'seed': 41504, 'restore': False, 'bias': False, 'num_bases': -1, 'init_dim': 200, 'gcn_dim': 200, 'embed_dim': None, 'gcn_layer': 1, 'dropout': 0.1, 'hid_drop': 0.1, 'hid_drop2': 0.3, 'feat_drop': 0.3, 'k_w': 10, 'k_h': 20, 'num_filt': 200, 'ker_sz': 7, 'log_dir': './log/', 'config_dir': './config/'}\n",
            "{'batch_size': 128,\n",
            " 'bias': False,\n",
            " 'config_dir': './config/',\n",
            " 'dataset': 'FB15k-237',\n",
            " 'dropout': 0.1,\n",
            " 'embed_dim': None,\n",
            " 'feat_drop': 0.3,\n",
            " 'gamma': 40.0,\n",
            " 'gcn_dim': 200,\n",
            " 'gcn_layer': 1,\n",
            " 'gpu': '0',\n",
            " 'hid_drop': 0.1,\n",
            " 'hid_drop2': 0.3,\n",
            " 'init_dim': 200,\n",
            " 'k_h': 20,\n",
            " 'k_w': 10,\n",
            " 'ker_sz': 7,\n",
            " 'l2': 0.0,\n",
            " 'lbl_smooth': 0.1,\n",
            " 'log_dir': './log/',\n",
            " 'lr': 0.001,\n",
            " 'max_epochs': 2,\n",
            " 'model': 'compgcn',\n",
            " 'name': 'testrun_15_01_2021_23:03:04',\n",
            " 'num_bases': -1,\n",
            " 'num_filt': 200,\n",
            " 'num_workers': 10,\n",
            " 'opn': 'corr',\n",
            " 'restore': False,\n",
            " 'score_func': 'transe',\n",
            " 'seed': 41504}\n",
            "/content/CompGCN/helper.py:94: UserWarning: The function torch.rfft is deprecated and will be removed in a future PyTorch release. Use the new torch.fft module functions, instead, by importing torch.fft and calling torch.fft.fft or torch.fft.rfft. (Triggered internally at  /pytorch/aten/src/ATen/native/SpectralOps.cpp:590.)\n",
            "  return torch.irfft(com_mult(conj(torch.rfft(a, 1)), torch.rfft(b, 1)), 1, signal_sizes=(a.shape[-1],))\n",
            "/content/CompGCN/helper.py:94: UserWarning: The function torch.irfft is deprecated and will be removed in a future PyTorch release. Use the new torch.fft module functions, instead, by importing torch.fft and calling torch.fft.ifft or torch.fft.irfft. (Triggered internally at  /pytorch/aten/src/ATen/native/SpectralOps.cpp:602.)\n",
            "  return torch.irfft(com_mult(conj(torch.rfft(a, 1)), torch.rfft(b, 1)), 1, signal_sizes=(a.shape[-1],))\n",
            "2021-01-15 23:03:13,339 - [INFO] - [E:0| 0]: Train Loss:0.099345,  Val MRR:0.0\ttestrun_15_01_2021_23:03:04\n",
            "2021-01-15 23:03:53,828 - [INFO] - [E:0| 100]: Train Loss:0.035741,  Val MRR:0.0\ttestrun_15_01_2021_23:03:04\n",
            "2021-01-15 23:04:34,497 - [INFO] - [E:0| 200]: Train Loss:0.036251,  Val MRR:0.0\ttestrun_15_01_2021_23:03:04\n",
            "2021-01-15 23:05:15,230 - [INFO] - [E:0| 300]: Train Loss:0.035816,  Val MRR:0.0\ttestrun_15_01_2021_23:03:04\n",
            "2021-01-15 23:05:56,069 - [INFO] - [E:0| 400]: Train Loss:0.035647,  Val MRR:0.0\ttestrun_15_01_2021_23:03:04\n",
            "2021-01-15 23:06:36,959 - [INFO] - [E:0| 500]: Train Loss:0.035886,  Val MRR:0.0\ttestrun_15_01_2021_23:03:04\n",
            "2021-01-15 23:07:17,837 - [INFO] - [E:0| 600]: Train Loss:0.035849,  Val MRR:0.0\ttestrun_15_01_2021_23:03:04\n",
            "2021-01-15 23:07:58,799 - [INFO] - [E:0| 700]: Train Loss:0.036069,  Val MRR:0.0\ttestrun_15_01_2021_23:03:04\n",
            "2021-01-15 23:08:39,805 - [INFO] - [E:0| 800]: Train Loss:0.035824,  Val MRR:0.0\ttestrun_15_01_2021_23:03:04\n",
            "2021-01-15 23:09:20,856 - [INFO] - [E:0| 900]: Train Loss:0.035792,  Val MRR:0.0\ttestrun_15_01_2021_23:03:04\n",
            "2021-01-15 23:10:01,962 - [INFO] - [E:0| 1000]: Train Loss:0.035678,  Val MRR:0.0\ttestrun_15_01_2021_23:03:04\n",
            "2021-01-15 23:10:43,056 - [INFO] - [E:0| 1100]: Train Loss:0.035631,  Val MRR:0.0\ttestrun_15_01_2021_23:03:04\n",
            "2021-01-15 23:11:11,526 - [INFO] - [Epoch:0]:  Training Loss:0.03558\n",
            "\n",
            "2021-01-15 23:11:12,162 - [INFO] - [Valid, Tail_Batch Step 0]\ttestrun_15_01_2021_23:03:04\n",
            "2021-01-15 23:11:25,440 - [INFO] - [Valid, Tail_Batch Step 100]\ttestrun_15_01_2021_23:03:04\n",
            "2021-01-15 23:11:31,085 - [INFO] - [Valid, Head_Batch Step 0]\ttestrun_15_01_2021_23:03:04\n",
            "2021-01-15 23:11:44,429 - [INFO] - [Valid, Head_Batch Step 100]\ttestrun_15_01_2021_23:03:04\n",
            "2021-01-15 23:11:49,395 - [INFO] - [Epoch 0 valid]: MRR: Tail : 0.00585, Head : 0.00583, Avg : 0.00584\n",
            "2021-01-15 23:11:49,480 - [INFO] - [Epoch 0]: Training Loss: 0.035577, Valid MRR: 0.00584\n",
            "\n",
            "\n",
            "2021-01-15 23:11:50,455 - [INFO] - [E:1| 0]: Train Loss:0.039597,  Val MRR:0.00584\ttestrun_15_01_2021_23:03:04\n",
            "2021-01-15 23:12:31,451 - [INFO] - [E:1| 100]: Train Loss:0.036629,  Val MRR:0.00584\ttestrun_15_01_2021_23:03:04\n",
            "2021-01-15 23:13:12,615 - [INFO] - [E:1| 200]: Train Loss:0.036461,  Val MRR:0.00584\ttestrun_15_01_2021_23:03:04\n",
            "2021-01-15 23:13:53,786 - [INFO] - [E:1| 300]: Train Loss:0.036496,  Val MRR:0.00584\ttestrun_15_01_2021_23:03:04\n",
            "2021-01-15 23:14:34,894 - [INFO] - [E:1| 400]: Train Loss:0.03605,  Val MRR:0.00584\ttestrun_15_01_2021_23:03:04\n",
            "2021-01-15 23:15:16,073 - [INFO] - [E:1| 500]: Train Loss:0.035832,  Val MRR:0.00584\ttestrun_15_01_2021_23:03:04\n",
            "2021-01-15 23:15:57,206 - [INFO] - [E:1| 600]: Train Loss:0.035739,  Val MRR:0.00584\ttestrun_15_01_2021_23:03:04\n",
            "2021-01-15 23:16:38,270 - [INFO] - [E:1| 700]: Train Loss:0.035603,  Val MRR:0.00584\ttestrun_15_01_2021_23:03:04\n",
            "2021-01-15 23:17:19,422 - [INFO] - [E:1| 800]: Train Loss:0.035503,  Val MRR:0.00584\ttestrun_15_01_2021_23:03:04\n",
            "2021-01-15 23:18:00,557 - [INFO] - [E:1| 900]: Train Loss:0.035354,  Val MRR:0.00584\ttestrun_15_01_2021_23:03:04\n",
            "2021-01-15 23:18:41,680 - [INFO] - [E:1| 1000]: Train Loss:0.035675,  Val MRR:0.00584\ttestrun_15_01_2021_23:03:04\n",
            "2021-01-15 23:19:22,777 - [INFO] - [E:1| 1100]: Train Loss:0.035556,  Val MRR:0.00584\ttestrun_15_01_2021_23:03:04\n",
            "2021-01-15 23:19:51,286 - [INFO] - [Epoch:1]:  Training Loss:0.03558\n",
            "\n",
            "2021-01-15 23:19:51,886 - [INFO] - [Valid, Tail_Batch Step 0]\ttestrun_15_01_2021_23:03:04\n",
            "2021-01-15 23:20:05,159 - [INFO] - [Valid, Tail_Batch Step 100]\ttestrun_15_01_2021_23:03:04\n",
            "2021-01-15 23:20:10,720 - [INFO] - [Valid, Head_Batch Step 0]\ttestrun_15_01_2021_23:03:04\n",
            "2021-01-15 23:20:24,136 - [INFO] - [Valid, Head_Batch Step 100]\ttestrun_15_01_2021_23:03:04\n",
            "2021-01-15 23:20:29,105 - [INFO] - [Epoch 1 valid]: MRR: Tail : 0.00585, Head : 0.00583, Avg : 0.00584\n",
            "2021-01-15 23:20:29,105 - [INFO] - [Epoch 1]: Training Loss: 0.035578, Valid MRR: 0.00584\n",
            "\n",
            "\n",
            "2021-01-15 23:20:29,105 - [INFO] - Loading best model, Evaluating on Test data\n",
            "2021-01-15 23:20:29,710 - [INFO] - [Test, Tail_Batch Step 0]\ttestrun_15_01_2021_23:03:04\n",
            "2021-01-15 23:20:43,023 - [INFO] - [Test, Tail_Batch Step 100]\ttestrun_15_01_2021_23:03:04\n",
            "2021-01-15 23:20:51,858 - [INFO] - [Test, Head_Batch Step 0]\ttestrun_15_01_2021_23:03:04\n",
            "2021-01-15 23:21:05,126 - [INFO] - [Test, Head_Batch Step 100]\ttestrun_15_01_2021_23:03:04\n",
            "2021-01-15 23:21:13,114 - [INFO] - [Epoch 1 test]: MRR: Tail : 0.00513, Head : 0.00513, Avg : 0.00513\n"
          ],
          "name": "stdout"
        }
      ]
    },
    {
      "cell_type": "markdown",
      "metadata": {
        "id": "T95bpn3oTQyt"
      },
      "source": [
        "## 2) With DistMult Score Function"
      ]
    },
    {
      "cell_type": "code",
      "metadata": {
        "colab": {
          "base_uri": "https://localhost:8080/"
        },
        "id": "958PmK5nL4Cs",
        "outputId": "a6100689-837f-4f17-d91a-84706756d728"
      },
      "source": [
        "# CompGCN (Composition: Subtraction)\n",
        "! python run.py -score_func distmult -opn sub -gcn_dim 150 -gcn_layer 2 -epoch 2"
      ],
      "execution_count": null,
      "outputs": [
        {
          "output_type": "stream",
          "text": [
            "2021-01-15 23:21:14,785 - [INFO] - {'name': 'testrun_15_01_2021_23:21:14', 'dataset': 'FB15k-237', 'model': 'compgcn', 'score_func': 'distmult', 'opn': 'sub', 'batch_size': 128, 'gamma': 40.0, 'gpu': '0', 'max_epochs': 2, 'l2': 0.0, 'lr': 0.001, 'lbl_smooth': 0.1, 'num_workers': 10, 'seed': 41504, 'restore': False, 'bias': False, 'num_bases': -1, 'init_dim': 100, 'gcn_dim': 150, 'embed_dim': None, 'gcn_layer': 2, 'dropout': 0.1, 'hid_drop': 0.3, 'hid_drop2': 0.3, 'feat_drop': 0.3, 'k_w': 10, 'k_h': 20, 'num_filt': 200, 'ker_sz': 7, 'log_dir': './log/', 'config_dir': './config/'}\n",
            "{'batch_size': 128,\n",
            " 'bias': False,\n",
            " 'config_dir': './config/',\n",
            " 'dataset': 'FB15k-237',\n",
            " 'dropout': 0.1,\n",
            " 'embed_dim': None,\n",
            " 'feat_drop': 0.3,\n",
            " 'gamma': 40.0,\n",
            " 'gcn_dim': 150,\n",
            " 'gcn_layer': 2,\n",
            " 'gpu': '0',\n",
            " 'hid_drop': 0.3,\n",
            " 'hid_drop2': 0.3,\n",
            " 'init_dim': 100,\n",
            " 'k_h': 20,\n",
            " 'k_w': 10,\n",
            " 'ker_sz': 7,\n",
            " 'l2': 0.0,\n",
            " 'lbl_smooth': 0.1,\n",
            " 'log_dir': './log/',\n",
            " 'lr': 0.001,\n",
            " 'max_epochs': 2,\n",
            " 'model': 'compgcn',\n",
            " 'name': 'testrun_15_01_2021_23:21:14',\n",
            " 'num_bases': -1,\n",
            " 'num_filt': 200,\n",
            " 'num_workers': 10,\n",
            " 'opn': 'sub',\n",
            " 'restore': False,\n",
            " 'score_func': 'distmult',\n",
            " 'seed': 41504}\n",
            "2021-01-15 23:21:22,941 - [INFO] - [E:0| 0]: Train Loss:0.70973,  Val MRR:0.0\ttestrun_15_01_2021_23:21:14\n",
            "2021-01-15 23:21:38,845 - [INFO] - [E:0| 100]: Train Loss:0.41869,  Val MRR:0.0\ttestrun_15_01_2021_23:21:14\n",
            "2021-01-15 23:21:55,075 - [INFO] - [E:0| 200]: Train Loss:0.25769,  Val MRR:0.0\ttestrun_15_01_2021_23:21:14\n",
            "2021-01-15 23:22:11,280 - [INFO] - [E:0| 300]: Train Loss:0.18983,  Val MRR:0.0\ttestrun_15_01_2021_23:21:14\n",
            "2021-01-15 23:22:27,214 - [INFO] - [E:0| 400]: Train Loss:0.15329,  Val MRR:0.0\ttestrun_15_01_2021_23:21:14\n",
            "2021-01-15 23:22:43,035 - [INFO] - [E:0| 500]: Train Loss:0.12743,  Val MRR:0.0\ttestrun_15_01_2021_23:21:14\n",
            "2021-01-15 23:22:58,923 - [INFO] - [E:0| 600]: Train Loss:0.10874,  Val MRR:0.0\ttestrun_15_01_2021_23:21:14\n",
            "2021-01-15 23:23:14,941 - [INFO] - [E:0| 700]: Train Loss:0.094113,  Val MRR:0.0\ttestrun_15_01_2021_23:21:14\n",
            "2021-01-15 23:23:30,997 - [INFO] - [E:0| 800]: Train Loss:0.083022,  Val MRR:0.0\ttestrun_15_01_2021_23:21:14\n",
            "2021-01-15 23:23:47,052 - [INFO] - [E:0| 900]: Train Loss:0.074297,  Val MRR:0.0\ttestrun_15_01_2021_23:21:14\n",
            "2021-01-15 23:24:03,021 - [INFO] - [E:0| 1000]: Train Loss:0.067361,  Val MRR:0.0\ttestrun_15_01_2021_23:21:14\n",
            "2021-01-15 23:24:18,993 - [INFO] - [E:0| 1100]: Train Loss:0.06161,  Val MRR:0.0\ttestrun_15_01_2021_23:21:14\n",
            "2021-01-15 23:24:30,162 - [INFO] - [Epoch:0]:  Training Loss:0.0582\n",
            "\n",
            "2021-01-15 23:24:30,699 - [INFO] - [Valid, Tail_Batch Step 0]\ttestrun_15_01_2021_23:21:14\n",
            "2021-01-15 23:24:37,806 - [INFO] - [Valid, Tail_Batch Step 100]\ttestrun_15_01_2021_23:21:14\n",
            "2021-01-15 23:24:41,087 - [INFO] - [Valid, Head_Batch Step 0]\ttestrun_15_01_2021_23:21:14\n",
            "2021-01-15 23:24:48,357 - [INFO] - [Valid, Head_Batch Step 100]\ttestrun_15_01_2021_23:21:14\n",
            "2021-01-15 23:24:51,098 - [INFO] - [Epoch 0 valid]: MRR: Tail : 0.06144, Head : 0.01302, Avg : 0.03723\n",
            "2021-01-15 23:24:51,141 - [INFO] - [Epoch 0]: Training Loss: 0.058198, Valid MRR: 0.03723\n",
            "\n",
            "\n",
            "2021-01-15 23:24:51,884 - [INFO] - [E:1| 0]: Train Loss:0.0031996,  Val MRR:0.03723\ttestrun_15_01_2021_23:21:14\n",
            "2021-01-15 23:25:07,937 - [INFO] - [E:1| 100]: Train Loss:0.0033376,  Val MRR:0.03723\ttestrun_15_01_2021_23:21:14\n",
            "2021-01-15 23:25:23,998 - [INFO] - [E:1| 200]: Train Loss:0.0033334,  Val MRR:0.03723\ttestrun_15_01_2021_23:21:14\n",
            "2021-01-15 23:25:40,033 - [INFO] - [E:1| 300]: Train Loss:0.003281,  Val MRR:0.03723\ttestrun_15_01_2021_23:21:14\n",
            "2021-01-15 23:25:56,011 - [INFO] - [E:1| 400]: Train Loss:0.0032314,  Val MRR:0.03723\ttestrun_15_01_2021_23:21:14\n",
            "2021-01-15 23:26:11,980 - [INFO] - [E:1| 500]: Train Loss:0.0032036,  Val MRR:0.03723\ttestrun_15_01_2021_23:21:14\n",
            "2021-01-15 23:26:27,914 - [INFO] - [E:1| 600]: Train Loss:0.0031678,  Val MRR:0.03723\ttestrun_15_01_2021_23:21:14\n",
            "2021-01-15 23:26:43,922 - [INFO] - [E:1| 700]: Train Loss:0.0032048,  Val MRR:0.03723\ttestrun_15_01_2021_23:21:14\n",
            "2021-01-15 23:26:59,857 - [INFO] - [E:1| 800]: Train Loss:0.0032132,  Val MRR:0.03723\ttestrun_15_01_2021_23:21:14\n",
            "2021-01-15 23:27:15,836 - [INFO] - [E:1| 900]: Train Loss:0.0031825,  Val MRR:0.03723\ttestrun_15_01_2021_23:21:14\n",
            "2021-01-15 23:27:31,976 - [INFO] - [E:1| 1000]: Train Loss:0.00317,  Val MRR:0.03723\ttestrun_15_01_2021_23:21:14\n",
            "2021-01-15 23:27:48,070 - [INFO] - [E:1| 1100]: Train Loss:0.0032208,  Val MRR:0.03723\ttestrun_15_01_2021_23:21:14\n",
            "2021-01-15 23:27:59,319 - [INFO] - [Epoch:1]:  Training Loss:0.003199\n",
            "\n",
            "2021-01-15 23:27:59,931 - [INFO] - [Valid, Tail_Batch Step 0]\ttestrun_15_01_2021_23:21:14\n",
            "2021-01-15 23:28:07,013 - [INFO] - [Valid, Tail_Batch Step 100]\ttestrun_15_01_2021_23:21:14\n",
            "2021-01-15 23:28:10,554 - [INFO] - [Valid, Head_Batch Step 0]\ttestrun_15_01_2021_23:21:14\n",
            "2021-01-15 23:28:17,639 - [INFO] - [Valid, Head_Batch Step 100]\ttestrun_15_01_2021_23:21:14\n",
            "2021-01-15 23:28:20,382 - [INFO] - [Epoch 1 valid]: MRR: Tail : 0.09805, Head : 0.03023, Avg : 0.06414\n",
            "2021-01-15 23:28:20,429 - [INFO] - [Epoch 1]: Training Loss: 0.0031986, Valid MRR: 0.06414\n",
            "\n",
            "\n",
            "2021-01-15 23:28:20,429 - [INFO] - Loading best model, Evaluating on Test data\n",
            "2021-01-15 23:28:21,122 - [INFO] - [Test, Tail_Batch Step 0]\ttestrun_15_01_2021_23:21:14\n",
            "2021-01-15 23:28:28,168 - [INFO] - [Test, Tail_Batch Step 100]\ttestrun_15_01_2021_23:21:14\n",
            "2021-01-15 23:28:33,279 - [INFO] - [Test, Head_Batch Step 0]\ttestrun_15_01_2021_23:21:14\n",
            "2021-01-15 23:28:40,439 - [INFO] - [Test, Head_Batch Step 100]\ttestrun_15_01_2021_23:21:14\n",
            "2021-01-15 23:28:44,816 - [INFO] - [Epoch 1 test]: MRR: Tail : 0.09626, Head : 0.03084, Avg : 0.06355\n"
          ],
          "name": "stdout"
        }
      ]
    },
    {
      "cell_type": "code",
      "metadata": {
        "colab": {
          "base_uri": "https://localhost:8080/"
        },
        "id": "fzXlSalZMF94",
        "outputId": "8f9ff620-0652-45bb-98ff-f1d6b33059a9"
      },
      "source": [
        "# CompGCN (Composition: Multiplication)\n",
        "! python run.py -score_func distmult -opn mult -gcn_dim 150 -gcn_layer 2 -epoch 2"
      ],
      "execution_count": null,
      "outputs": [
        {
          "output_type": "stream",
          "text": [
            "2021-01-15 23:28:46,410 - [INFO] - {'name': 'testrun_15_01_2021_23:28:46', 'dataset': 'FB15k-237', 'model': 'compgcn', 'score_func': 'distmult', 'opn': 'mult', 'batch_size': 128, 'gamma': 40.0, 'gpu': '0', 'max_epochs': 2, 'l2': 0.0, 'lr': 0.001, 'lbl_smooth': 0.1, 'num_workers': 10, 'seed': 41504, 'restore': False, 'bias': False, 'num_bases': -1, 'init_dim': 100, 'gcn_dim': 150, 'embed_dim': None, 'gcn_layer': 2, 'dropout': 0.1, 'hid_drop': 0.3, 'hid_drop2': 0.3, 'feat_drop': 0.3, 'k_w': 10, 'k_h': 20, 'num_filt': 200, 'ker_sz': 7, 'log_dir': './log/', 'config_dir': './config/'}\n",
            "{'batch_size': 128,\n",
            " 'bias': False,\n",
            " 'config_dir': './config/',\n",
            " 'dataset': 'FB15k-237',\n",
            " 'dropout': 0.1,\n",
            " 'embed_dim': None,\n",
            " 'feat_drop': 0.3,\n",
            " 'gamma': 40.0,\n",
            " 'gcn_dim': 150,\n",
            " 'gcn_layer': 2,\n",
            " 'gpu': '0',\n",
            " 'hid_drop': 0.3,\n",
            " 'hid_drop2': 0.3,\n",
            " 'init_dim': 100,\n",
            " 'k_h': 20,\n",
            " 'k_w': 10,\n",
            " 'ker_sz': 7,\n",
            " 'l2': 0.0,\n",
            " 'lbl_smooth': 0.1,\n",
            " 'log_dir': './log/',\n",
            " 'lr': 0.001,\n",
            " 'max_epochs': 2,\n",
            " 'model': 'compgcn',\n",
            " 'name': 'testrun_15_01_2021_23:28:46',\n",
            " 'num_bases': -1,\n",
            " 'num_filt': 200,\n",
            " 'num_workers': 10,\n",
            " 'opn': 'mult',\n",
            " 'restore': False,\n",
            " 'score_func': 'distmult',\n",
            " 'seed': 41504}\n",
            "2021-01-15 23:28:54,475 - [INFO] - [E:0| 0]: Train Loss:0.70835,  Val MRR:0.0\ttestrun_15_01_2021_23:28:46\n",
            "2021-01-15 23:29:10,640 - [INFO] - [E:0| 100]: Train Loss:0.63558,  Val MRR:0.0\ttestrun_15_01_2021_23:28:46\n",
            "2021-01-15 23:29:26,947 - [INFO] - [E:0| 200]: Train Loss:0.40708,  Val MRR:0.0\ttestrun_15_01_2021_23:28:46\n",
            "2021-01-15 23:29:43,192 - [INFO] - [E:0| 300]: Train Loss:0.291,  Val MRR:0.0\ttestrun_15_01_2021_23:28:46\n",
            "2021-01-15 23:29:59,401 - [INFO] - [E:0| 400]: Train Loss:0.22621,  Val MRR:0.0\ttestrun_15_01_2021_23:28:46\n",
            "2021-01-15 23:30:15,600 - [INFO] - [E:0| 500]: Train Loss:0.18424,  Val MRR:0.0\ttestrun_15_01_2021_23:28:46\n",
            "2021-01-15 23:30:31,805 - [INFO] - [E:0| 600]: Train Loss:0.15548,  Val MRR:0.0\ttestrun_15_01_2021_23:28:46\n",
            "2021-01-15 23:30:48,019 - [INFO] - [E:0| 700]: Train Loss:0.13434,  Val MRR:0.0\ttestrun_15_01_2021_23:28:46\n",
            "2021-01-15 23:31:04,243 - [INFO] - [E:0| 800]: Train Loss:0.1182,  Val MRR:0.0\ttestrun_15_01_2021_23:28:46\n",
            "2021-01-15 23:31:20,440 - [INFO] - [E:0| 900]: Train Loss:0.10555,  Val MRR:0.0\ttestrun_15_01_2021_23:28:46\n",
            "2021-01-15 23:31:36,641 - [INFO] - [E:0| 1000]: Train Loss:0.095532,  Val MRR:0.0\ttestrun_15_01_2021_23:28:46\n",
            "2021-01-15 23:31:52,846 - [INFO] - [E:0| 1100]: Train Loss:0.087198,  Val MRR:0.0\ttestrun_15_01_2021_23:28:46\n",
            "2021-01-15 23:32:04,247 - [INFO] - [Epoch:0]:  Training Loss:0.08229\n",
            "\n",
            "2021-01-15 23:32:04,817 - [INFO] - [Valid, Tail_Batch Step 0]\ttestrun_15_01_2021_23:28:46\n",
            "2021-01-15 23:32:11,954 - [INFO] - [Valid, Tail_Batch Step 100]\ttestrun_15_01_2021_23:28:46\n",
            "2021-01-15 23:32:15,280 - [INFO] - [Valid, Head_Batch Step 0]\ttestrun_15_01_2021_23:28:46\n",
            "2021-01-15 23:32:22,570 - [INFO] - [Valid, Head_Batch Step 100]\ttestrun_15_01_2021_23:28:46\n",
            "2021-01-15 23:32:25,340 - [INFO] - [Epoch 0 valid]: MRR: Tail : 0.07691, Head : 0.00961, Avg : 0.04326\n",
            "2021-01-15 23:32:25,383 - [INFO] - [Epoch 0]: Training Loss: 0.082285, Valid MRR: 0.04326\n",
            "\n",
            "\n",
            "2021-01-15 23:32:26,140 - [INFO] - [E:1| 0]: Train Loss:0.003448,  Val MRR:0.04326\ttestrun_15_01_2021_23:28:46\n",
            "2021-01-15 23:32:42,340 - [INFO] - [E:1| 100]: Train Loss:0.0031613,  Val MRR:0.04326\ttestrun_15_01_2021_23:28:46\n",
            "2021-01-15 23:32:58,575 - [INFO] - [E:1| 200]: Train Loss:0.003167,  Val MRR:0.04326\ttestrun_15_01_2021_23:28:46\n",
            "2021-01-15 23:33:14,805 - [INFO] - [E:1| 300]: Train Loss:0.0031217,  Val MRR:0.04326\ttestrun_15_01_2021_23:28:46\n",
            "2021-01-15 23:33:31,050 - [INFO] - [E:1| 400]: Train Loss:0.0030816,  Val MRR:0.04326\ttestrun_15_01_2021_23:28:46\n",
            "2021-01-15 23:33:47,260 - [INFO] - [E:1| 500]: Train Loss:0.0030319,  Val MRR:0.04326\ttestrun_15_01_2021_23:28:46\n",
            "2021-01-15 23:34:03,493 - [INFO] - [E:1| 600]: Train Loss:0.0029928,  Val MRR:0.04326\ttestrun_15_01_2021_23:28:46\n",
            "2021-01-15 23:34:19,699 - [INFO] - [E:1| 700]: Train Loss:0.0029737,  Val MRR:0.04326\ttestrun_15_01_2021_23:28:46\n",
            "2021-01-15 23:34:35,925 - [INFO] - [E:1| 800]: Train Loss:0.0029723,  Val MRR:0.04326\ttestrun_15_01_2021_23:28:46\n",
            "2021-01-15 23:34:52,130 - [INFO] - [E:1| 900]: Train Loss:0.0029562,  Val MRR:0.04326\ttestrun_15_01_2021_23:28:46\n",
            "2021-01-15 23:35:08,341 - [INFO] - [E:1| 1000]: Train Loss:0.0029751,  Val MRR:0.04326\ttestrun_15_01_2021_23:28:46\n",
            "2021-01-15 23:35:24,568 - [INFO] - [E:1| 1100]: Train Loss:0.0029562,  Val MRR:0.04326\ttestrun_15_01_2021_23:28:46\n",
            "2021-01-15 23:35:35,983 - [INFO] - [Epoch:1]:  Training Loss:0.002939\n",
            "\n",
            "2021-01-15 23:35:36,550 - [INFO] - [Valid, Tail_Batch Step 0]\ttestrun_15_01_2021_23:28:46\n",
            "2021-01-15 23:35:43,678 - [INFO] - [Valid, Tail_Batch Step 100]\ttestrun_15_01_2021_23:28:46\n",
            "2021-01-15 23:35:46,978 - [INFO] - [Valid, Head_Batch Step 0]\ttestrun_15_01_2021_23:28:46\n",
            "2021-01-15 23:35:54,285 - [INFO] - [Valid, Head_Batch Step 100]\ttestrun_15_01_2021_23:28:46\n",
            "2021-01-15 23:35:57,034 - [INFO] - [Epoch 1 valid]: MRR: Tail : 0.12342, Head : 0.01324, Avg : 0.06833\n",
            "2021-01-15 23:35:57,081 - [INFO] - [Epoch 1]: Training Loss: 0.0029394, Valid MRR: 0.06833\n",
            "\n",
            "\n",
            "2021-01-15 23:35:57,082 - [INFO] - Loading best model, Evaluating on Test data\n",
            "2021-01-15 23:35:57,654 - [INFO] - [Test, Tail_Batch Step 0]\ttestrun_15_01_2021_23:28:46\n",
            "2021-01-15 23:36:04,787 - [INFO] - [Test, Tail_Batch Step 100]\ttestrun_15_01_2021_23:28:46\n",
            "2021-01-15 23:36:09,987 - [INFO] - [Test, Head_Batch Step 0]\ttestrun_15_01_2021_23:28:46\n",
            "2021-01-15 23:36:17,123 - [INFO] - [Test, Head_Batch Step 100]\ttestrun_15_01_2021_23:28:46\n",
            "2021-01-15 23:36:21,505 - [INFO] - [Epoch 1 test]: MRR: Tail : 0.11959, Head : 0.01392, Avg : 0.06676\n"
          ],
          "name": "stdout"
        }
      ]
    },
    {
      "cell_type": "code",
      "metadata": {
        "colab": {
          "base_uri": "https://localhost:8080/"
        },
        "id": "Xe-kGzKwMJsG",
        "outputId": "64753c3d-af8b-410e-ac8f-6ec653bba02c"
      },
      "source": [
        "# CompGCN (Composition: Circular Correlation)\n",
        "! python run.py -score_func distmult -opn corr -gcn_dim 150 -gcn_layer 2 -epoch 2\n"
      ],
      "execution_count": null,
      "outputs": [
        {
          "output_type": "stream",
          "text": [
            "2021-01-16 02:27:07,976 - [INFO] - {'name': 'testrun_16_01_2021_02:27:07', 'dataset': 'FB15k-237', 'model': 'compgcn', 'score_func': 'distmult', 'opn': 'corr', 'batch_size': 128, 'gamma': 40.0, 'gpu': '0', 'max_epochs': 2, 'l2': 0.0, 'lr': 0.001, 'lbl_smooth': 0.1, 'num_workers': 10, 'seed': 41504, 'restore': False, 'bias': False, 'num_bases': -1, 'init_dim': 100, 'gcn_dim': 150, 'embed_dim': None, 'gcn_layer': 2, 'dropout': 0.1, 'hid_drop': 0.3, 'hid_drop2': 0.3, 'feat_drop': 0.3, 'k_w': 10, 'k_h': 20, 'num_filt': 200, 'ker_sz': 7, 'log_dir': './log/', 'config_dir': './config/'}\n",
            "{'batch_size': 128,\n",
            " 'bias': False,\n",
            " 'config_dir': './config/',\n",
            " 'dataset': 'FB15k-237',\n",
            " 'dropout': 0.1,\n",
            " 'embed_dim': None,\n",
            " 'feat_drop': 0.3,\n",
            " 'gamma': 40.0,\n",
            " 'gcn_dim': 150,\n",
            " 'gcn_layer': 2,\n",
            " 'gpu': '0',\n",
            " 'hid_drop': 0.3,\n",
            " 'hid_drop2': 0.3,\n",
            " 'init_dim': 100,\n",
            " 'k_h': 20,\n",
            " 'k_w': 10,\n",
            " 'ker_sz': 7,\n",
            " 'l2': 0.0,\n",
            " 'lbl_smooth': 0.1,\n",
            " 'log_dir': './log/',\n",
            " 'lr': 0.001,\n",
            " 'max_epochs': 2,\n",
            " 'model': 'compgcn',\n",
            " 'name': 'testrun_16_01_2021_02:27:07',\n",
            " 'num_bases': -1,\n",
            " 'num_filt': 200,\n",
            " 'num_workers': 10,\n",
            " 'opn': 'corr',\n",
            " 'restore': False,\n",
            " 'score_func': 'distmult',\n",
            " 'seed': 41504}\n",
            "/content/CompGCN/helper.py:94: UserWarning: The function torch.rfft is deprecated and will be removed in a future PyTorch release. Use the new torch.fft module functions, instead, by importing torch.fft and calling torch.fft.fft or torch.fft.rfft. (Triggered internally at  /pytorch/aten/src/ATen/native/SpectralOps.cpp:590.)\n",
            "  return torch.irfft(com_mult(conj(torch.rfft(a, 1)), torch.rfft(b, 1)), 1, signal_sizes=(a.shape[-1],))\n",
            "/content/CompGCN/helper.py:94: UserWarning: The function torch.irfft is deprecated and will be removed in a future PyTorch release. Use the new torch.fft module functions, instead, by importing torch.fft and calling torch.fft.ifft or torch.fft.irfft. (Triggered internally at  /pytorch/aten/src/ATen/native/SpectralOps.cpp:602.)\n",
            "  return torch.irfft(com_mult(conj(torch.rfft(a, 1)), torch.rfft(b, 1)), 1, signal_sizes=(a.shape[-1],))\n",
            "2021-01-16 02:27:33,553 - [INFO] - [E:0| 0]: Train Loss:0.71191,  Val MRR:0.0\ttestrun_16_01_2021_02:27:07\n",
            "2021-01-16 02:28:15,858 - [INFO] - [E:0| 100]: Train Loss:0.67175,  Val MRR:0.0\ttestrun_16_01_2021_02:27:07\n",
            "2021-01-16 02:28:58,389 - [INFO] - [E:0| 200]: Train Loss:0.48654,  Val MRR:0.0\ttestrun_16_01_2021_02:27:07\n",
            "2021-01-16 02:29:41,267 - [INFO] - [E:0| 300]: Train Loss:0.3444,  Val MRR:0.0\ttestrun_16_01_2021_02:27:07\n",
            "2021-01-16 02:30:24,512 - [INFO] - [E:0| 400]: Train Loss:0.26519,  Val MRR:0.0\ttestrun_16_01_2021_02:27:07\n",
            "2021-01-16 02:31:07,734 - [INFO] - [E:0| 500]: Train Loss:0.21566,  Val MRR:0.0\ttestrun_16_01_2021_02:27:07\n",
            "2021-01-16 02:31:51,061 - [INFO] - [E:0| 600]: Train Loss:0.18164,  Val MRR:0.0\ttestrun_16_01_2021_02:27:07\n",
            "2021-01-16 02:32:34,369 - [INFO] - [E:0| 700]: Train Loss:0.15671,  Val MRR:0.0\ttestrun_16_01_2021_02:27:07\n",
            "2021-01-16 02:33:17,768 - [INFO] - [E:0| 800]: Train Loss:0.13769,  Val MRR:0.0\ttestrun_16_01_2021_02:27:07\n",
            "2021-01-16 02:34:01,176 - [INFO] - [E:0| 900]: Train Loss:0.12283,  Val MRR:0.0\ttestrun_16_01_2021_02:27:07\n",
            "2021-01-16 02:34:44,514 - [INFO] - [E:0| 1000]: Train Loss:0.11103,  Val MRR:0.0\ttestrun_16_01_2021_02:27:07\n",
            "2021-01-16 02:35:27,816 - [INFO] - [E:0| 1100]: Train Loss:0.10131,  Val MRR:0.0\ttestrun_16_01_2021_02:27:07\n",
            "2021-01-16 02:35:57,881 - [INFO] - [Epoch:0]:  Training Loss:0.09561\n",
            "\n",
            "2021-01-16 02:35:58,502 - [INFO] - [Valid, Tail_Batch Step 0]\ttestrun_16_01_2021_02:27:07\n",
            "2021-01-16 02:36:12,738 - [INFO] - [Valid, Tail_Batch Step 100]\ttestrun_16_01_2021_02:27:07\n",
            "2021-01-16 02:36:18,646 - [INFO] - [Valid, Head_Batch Step 0]\ttestrun_16_01_2021_02:27:07\n",
            "2021-01-16 02:36:33,030 - [INFO] - [Valid, Head_Batch Step 100]\ttestrun_16_01_2021_02:27:07\n",
            "2021-01-16 02:36:38,331 - [INFO] - [Epoch 0 valid]: MRR: Tail : 0.03823, Head : 0.00647, Avg : 0.02235\n",
            "2021-01-16 02:36:38,374 - [INFO] - [Epoch 0]: Training Loss: 0.095614, Valid MRR: 0.02235\n",
            "\n",
            "\n",
            "2021-01-16 02:36:39,352 - [INFO] - [E:1| 0]: Train Loss:0.0038528,  Val MRR:0.02235\ttestrun_16_01_2021_02:27:07\n",
            "2021-01-16 02:37:22,806 - [INFO] - [E:1| 100]: Train Loss:0.0033785,  Val MRR:0.02235\ttestrun_16_01_2021_02:27:07\n",
            "2021-01-16 02:38:06,142 - [INFO] - [E:1| 200]: Train Loss:0.0036925,  Val MRR:0.02235\ttestrun_16_01_2021_02:27:07\n",
            "2021-01-16 02:38:49,466 - [INFO] - [E:1| 300]: Train Loss:0.0035304,  Val MRR:0.02235\ttestrun_16_01_2021_02:27:07\n",
            "2021-01-16 02:39:32,793 - [INFO] - [E:1| 400]: Train Loss:0.0034247,  Val MRR:0.02235\ttestrun_16_01_2021_02:27:07\n",
            "2021-01-16 02:40:16,141 - [INFO] - [E:1| 500]: Train Loss:0.0034064,  Val MRR:0.02235\ttestrun_16_01_2021_02:27:07\n",
            "2021-01-16 02:40:59,551 - [INFO] - [E:1| 600]: Train Loss:0.0033295,  Val MRR:0.02235\ttestrun_16_01_2021_02:27:07\n",
            "2021-01-16 02:41:42,875 - [INFO] - [E:1| 700]: Train Loss:0.0033526,  Val MRR:0.02235\ttestrun_16_01_2021_02:27:07\n",
            "2021-01-16 02:42:26,163 - [INFO] - [E:1| 800]: Train Loss:0.0033211,  Val MRR:0.02235\ttestrun_16_01_2021_02:27:07\n",
            "2021-01-16 02:43:09,471 - [INFO] - [E:1| 900]: Train Loss:0.0032894,  Val MRR:0.02235\ttestrun_16_01_2021_02:27:07\n",
            "2021-01-16 02:43:52,854 - [INFO] - [E:1| 1000]: Train Loss:0.0033107,  Val MRR:0.02235\ttestrun_16_01_2021_02:27:07\n",
            "2021-01-16 02:44:36,293 - [INFO] - [E:1| 1100]: Train Loss:0.0032723,  Val MRR:0.02235\ttestrun_16_01_2021_02:27:07\n",
            "2021-01-16 02:45:06,423 - [INFO] - [Epoch:1]:  Training Loss:0.003244\n",
            "\n",
            "2021-01-16 02:45:07,045 - [INFO] - [Valid, Tail_Batch Step 0]\ttestrun_16_01_2021_02:27:07\n",
            "2021-01-16 02:45:21,316 - [INFO] - [Valid, Tail_Batch Step 100]\ttestrun_16_01_2021_02:27:07\n",
            "2021-01-16 02:45:27,513 - [INFO] - [Valid, Head_Batch Step 0]\ttestrun_16_01_2021_02:27:07\n",
            "2021-01-16 02:45:41,728 - [INFO] - [Valid, Head_Batch Step 100]\ttestrun_16_01_2021_02:27:07\n",
            "2021-01-16 02:45:47,049 - [INFO] - [Epoch 1 valid]: MRR: Tail : 0.08313, Head : 0.01051, Avg : 0.04682\n",
            "2021-01-16 02:45:47,098 - [INFO] - [Epoch 1]: Training Loss: 0.0032444, Valid MRR: 0.04682\n",
            "\n",
            "\n",
            "2021-01-16 02:45:47,098 - [INFO] - Loading best model, Evaluating on Test data\n",
            "2021-01-16 02:45:47,878 - [INFO] - [Test, Tail_Batch Step 0]\ttestrun_16_01_2021_02:27:07\n",
            "2021-01-16 02:46:02,071 - [INFO] - [Test, Tail_Batch Step 100]\ttestrun_16_01_2021_02:27:07\n",
            "2021-01-16 02:46:11,534 - [INFO] - [Test, Head_Batch Step 0]\ttestrun_16_01_2021_02:27:07\n",
            "2021-01-16 02:46:25,760 - [INFO] - [Test, Head_Batch Step 100]\ttestrun_16_01_2021_02:27:07\n",
            "2021-01-16 02:46:34,344 - [INFO] - [Epoch 1 test]: MRR: Tail : 0.08062, Head : 0.01089, Avg : 0.04576\n"
          ],
          "name": "stdout"
        }
      ]
    },
    {
      "cell_type": "markdown",
      "metadata": {
        "id": "5kilygIvTcIc"
      },
      "source": [
        "## 3) With ConvE Score Function"
      ]
    },
    {
      "cell_type": "code",
      "metadata": {
        "id": "d1a-RswSMPOX",
        "colab": {
          "base_uri": "https://localhost:8080/"
        },
        "outputId": "9628cc16-0bee-4bf1-e495-2574e49deaca"
      },
      "source": [
        "# CompGCN (Composition: Subtraction)\n",
        "! python run.py -score_func conve -opn sub -ker_sz 5 -epoch 2"
      ],
      "execution_count": null,
      "outputs": [
        {
          "output_type": "stream",
          "text": [
            "2021-01-16 02:46:35,995 - [INFO] - {'name': 'testrun_16_01_2021_02:46:35', 'dataset': 'FB15k-237', 'model': 'compgcn', 'score_func': 'conve', 'opn': 'sub', 'batch_size': 128, 'gamma': 40.0, 'gpu': '0', 'max_epochs': 2, 'l2': 0.0, 'lr': 0.001, 'lbl_smooth': 0.1, 'num_workers': 10, 'seed': 41504, 'restore': False, 'bias': False, 'num_bases': -1, 'init_dim': 100, 'gcn_dim': 200, 'embed_dim': None, 'gcn_layer': 1, 'dropout': 0.1, 'hid_drop': 0.3, 'hid_drop2': 0.3, 'feat_drop': 0.3, 'k_w': 10, 'k_h': 20, 'num_filt': 200, 'ker_sz': 5, 'log_dir': './log/', 'config_dir': './config/'}\n",
            "{'batch_size': 128,\n",
            " 'bias': False,\n",
            " 'config_dir': './config/',\n",
            " 'dataset': 'FB15k-237',\n",
            " 'dropout': 0.1,\n",
            " 'embed_dim': None,\n",
            " 'feat_drop': 0.3,\n",
            " 'gamma': 40.0,\n",
            " 'gcn_dim': 200,\n",
            " 'gcn_layer': 1,\n",
            " 'gpu': '0',\n",
            " 'hid_drop': 0.3,\n",
            " 'hid_drop2': 0.3,\n",
            " 'init_dim': 100,\n",
            " 'k_h': 20,\n",
            " 'k_w': 10,\n",
            " 'ker_sz': 5,\n",
            " 'l2': 0.0,\n",
            " 'lbl_smooth': 0.1,\n",
            " 'log_dir': './log/',\n",
            " 'lr': 0.001,\n",
            " 'max_epochs': 2,\n",
            " 'model': 'compgcn',\n",
            " 'name': 'testrun_16_01_2021_02:46:35',\n",
            " 'num_bases': -1,\n",
            " 'num_filt': 200,\n",
            " 'num_workers': 10,\n",
            " 'opn': 'sub',\n",
            " 'restore': False,\n",
            " 'score_func': 'conve',\n",
            " 'seed': 41504}\n",
            "2021-01-16 02:46:44,145 - [INFO] - [E:0| 0]: Train Loss:2.9615,  Val MRR:0.0\ttestrun_16_01_2021_02:46:35\n",
            "2021-01-16 02:46:53,319 - [INFO] - [E:0| 100]: Train Loss:0.25861,  Val MRR:0.0\ttestrun_16_01_2021_02:46:35\n",
            "2021-01-16 02:47:02,555 - [INFO] - [E:0| 200]: Train Loss:0.13573,  Val MRR:0.0\ttestrun_16_01_2021_02:46:35\n",
            "2021-01-16 02:47:11,880 - [INFO] - [E:0| 300]: Train Loss:0.093,  Val MRR:0.0\ttestrun_16_01_2021_02:46:35\n",
            "2021-01-16 02:47:21,239 - [INFO] - [E:0| 400]: Train Loss:0.071238,  Val MRR:0.0\ttestrun_16_01_2021_02:46:35\n",
            "2021-01-16 02:47:30,468 - [INFO] - [E:0| 500]: Train Loss:0.058101,  Val MRR:0.0\ttestrun_16_01_2021_02:46:35\n",
            "2021-01-16 02:47:39,632 - [INFO] - [E:0| 600]: Train Loss:0.049278,  Val MRR:0.0\ttestrun_16_01_2021_02:46:35\n",
            "2021-01-16 02:47:48,799 - [INFO] - [E:0| 700]: Train Loss:0.042921,  Val MRR:0.0\ttestrun_16_01_2021_02:46:35\n",
            "2021-01-16 02:47:57,942 - [INFO] - [E:0| 800]: Train Loss:0.038179,  Val MRR:0.0\ttestrun_16_01_2021_02:46:35\n",
            "2021-01-16 02:48:07,072 - [INFO] - [E:0| 900]: Train Loss:0.034434,  Val MRR:0.0\ttestrun_16_01_2021_02:46:35\n",
            "2021-01-16 02:48:16,245 - [INFO] - [E:0| 1000]: Train Loss:0.031413,  Val MRR:0.0\ttestrun_16_01_2021_02:46:35\n",
            "2021-01-16 02:48:25,469 - [INFO] - [E:0| 1100]: Train Loss:0.028928,  Val MRR:0.0\ttestrun_16_01_2021_02:46:35\n",
            "2021-01-16 02:48:32,041 - [INFO] - [Epoch:0]:  Training Loss:0.02746\n",
            "\n",
            "2021-01-16 02:48:32,625 - [INFO] - [Valid, Tail_Batch Step 0]\ttestrun_16_01_2021_02:46:35\n",
            "2021-01-16 02:48:37,141 - [INFO] - [Valid, Tail_Batch Step 100]\ttestrun_16_01_2021_02:46:35\n",
            "2021-01-16 02:48:39,468 - [INFO] - [Valid, Head_Batch Step 0]\ttestrun_16_01_2021_02:46:35\n",
            "2021-01-16 02:48:44,361 - [INFO] - [Valid, Head_Batch Step 100]\ttestrun_16_01_2021_02:46:35\n",
            "2021-01-16 02:48:46,180 - [INFO] - [Epoch 0 valid]: MRR: Tail : 0.04202, Head : 0.02302, Avg : 0.03252\n",
            "2021-01-16 02:48:46,566 - [INFO] - [Epoch 0]: Training Loss: 0.027462, Valid MRR: 0.03252\n",
            "\n",
            "\n",
            "2021-01-16 02:48:47,377 - [INFO] - [E:1| 0]: Train Loss:0.0034775,  Val MRR:0.03252\ttestrun_16_01_2021_02:46:35\n",
            "2021-01-16 02:48:56,499 - [INFO] - [E:1| 100]: Train Loss:0.0039393,  Val MRR:0.03252\ttestrun_16_01_2021_02:46:35\n",
            "2021-01-16 02:49:05,636 - [INFO] - [E:1| 200]: Train Loss:0.0037576,  Val MRR:0.03252\ttestrun_16_01_2021_02:46:35\n",
            "2021-01-16 02:49:14,791 - [INFO] - [E:1| 300]: Train Loss:0.0037959,  Val MRR:0.03252\ttestrun_16_01_2021_02:46:35\n",
            "2021-01-16 02:49:23,936 - [INFO] - [E:1| 400]: Train Loss:0.0037697,  Val MRR:0.03252\ttestrun_16_01_2021_02:46:35\n",
            "2021-01-16 02:49:33,089 - [INFO] - [E:1| 500]: Train Loss:0.0037215,  Val MRR:0.03252\ttestrun_16_01_2021_02:46:35\n",
            "2021-01-16 02:49:42,273 - [INFO] - [E:1| 600]: Train Loss:0.0036886,  Val MRR:0.03252\ttestrun_16_01_2021_02:46:35\n",
            "2021-01-16 02:49:51,416 - [INFO] - [E:1| 700]: Train Loss:0.0036317,  Val MRR:0.03252\ttestrun_16_01_2021_02:46:35\n",
            "2021-01-16 02:50:00,584 - [INFO] - [E:1| 800]: Train Loss:0.0035927,  Val MRR:0.03252\ttestrun_16_01_2021_02:46:35\n",
            "2021-01-16 02:50:09,729 - [INFO] - [E:1| 900]: Train Loss:0.0035435,  Val MRR:0.03252\ttestrun_16_01_2021_02:46:35\n",
            "2021-01-16 02:50:18,900 - [INFO] - [E:1| 1000]: Train Loss:0.0035362,  Val MRR:0.03252\ttestrun_16_01_2021_02:46:35\n",
            "2021-01-16 02:50:28,082 - [INFO] - [E:1| 1100]: Train Loss:0.0035028,  Val MRR:0.03252\ttestrun_16_01_2021_02:46:35\n",
            "2021-01-16 02:50:34,609 - [INFO] - [Epoch:1]:  Training Loss:0.003499\n",
            "\n",
            "2021-01-16 02:50:35,282 - [INFO] - [Valid, Tail_Batch Step 0]\ttestrun_16_01_2021_02:46:35\n",
            "2021-01-16 02:50:39,697 - [INFO] - [Valid, Tail_Batch Step 100]\ttestrun_16_01_2021_02:46:35\n",
            "2021-01-16 02:50:42,043 - [INFO] - [Valid, Head_Batch Step 0]\ttestrun_16_01_2021_02:46:35\n",
            "2021-01-16 02:50:46,961 - [INFO] - [Valid, Head_Batch Step 100]\ttestrun_16_01_2021_02:46:35\n",
            "2021-01-16 02:50:48,766 - [INFO] - [Epoch 1 valid]: MRR: Tail : 0.14557, Head : 0.02586, Avg : 0.08572\n",
            "2021-01-16 02:50:49,164 - [INFO] - [Epoch 1]: Training Loss: 0.0034988, Valid MRR: 0.08572\n",
            "\n",
            "\n",
            "2021-01-16 02:50:49,165 - [INFO] - Loading best model, Evaluating on Test data\n",
            "2021-01-16 02:50:49,788 - [INFO] - [Test, Tail_Batch Step 0]\ttestrun_16_01_2021_02:46:35\n",
            "2021-01-16 02:50:54,390 - [INFO] - [Test, Tail_Batch Step 100]\ttestrun_16_01_2021_02:46:35\n",
            "2021-01-16 02:50:57,930 - [INFO] - [Test, Head_Batch Step 0]\ttestrun_16_01_2021_02:46:35\n",
            "2021-01-16 02:51:02,703 - [INFO] - [Test, Head_Batch Step 100]\ttestrun_16_01_2021_02:46:35\n",
            "2021-01-16 02:51:05,591 - [INFO] - [Epoch 1 test]: MRR: Tail : 0.14194, Head : 0.02607, Avg : 0.084\n"
          ],
          "name": "stdout"
        }
      ]
    },
    {
      "cell_type": "code",
      "metadata": {
        "id": "Btkw2i1NMS_p",
        "colab": {
          "base_uri": "https://localhost:8080/"
        },
        "outputId": "540c1aaa-2cea-470e-ec21-411081dd6705"
      },
      "source": [
        "# CompGCN (Composition: Multiplication)\n",
        "! python run.py -score_func conve -opn mult -epoch 2"
      ],
      "execution_count": null,
      "outputs": [
        {
          "output_type": "stream",
          "text": [
            "2021-01-16 02:51:07,216 - [INFO] - {'name': 'testrun_16_01_2021_02:51:07', 'dataset': 'FB15k-237', 'model': 'compgcn', 'score_func': 'conve', 'opn': 'mult', 'batch_size': 128, 'gamma': 40.0, 'gpu': '0', 'max_epochs': 2, 'l2': 0.0, 'lr': 0.001, 'lbl_smooth': 0.1, 'num_workers': 10, 'seed': 41504, 'restore': False, 'bias': False, 'num_bases': -1, 'init_dim': 100, 'gcn_dim': 200, 'embed_dim': None, 'gcn_layer': 1, 'dropout': 0.1, 'hid_drop': 0.3, 'hid_drop2': 0.3, 'feat_drop': 0.3, 'k_w': 10, 'k_h': 20, 'num_filt': 200, 'ker_sz': 7, 'log_dir': './log/', 'config_dir': './config/'}\n",
            "{'batch_size': 128,\n",
            " 'bias': False,\n",
            " 'config_dir': './config/',\n",
            " 'dataset': 'FB15k-237',\n",
            " 'dropout': 0.1,\n",
            " 'embed_dim': None,\n",
            " 'feat_drop': 0.3,\n",
            " 'gamma': 40.0,\n",
            " 'gcn_dim': 200,\n",
            " 'gcn_layer': 1,\n",
            " 'gpu': '0',\n",
            " 'hid_drop': 0.3,\n",
            " 'hid_drop2': 0.3,\n",
            " 'init_dim': 100,\n",
            " 'k_h': 20,\n",
            " 'k_w': 10,\n",
            " 'ker_sz': 7,\n",
            " 'l2': 0.0,\n",
            " 'lbl_smooth': 0.1,\n",
            " 'log_dir': './log/',\n",
            " 'lr': 0.001,\n",
            " 'max_epochs': 2,\n",
            " 'model': 'compgcn',\n",
            " 'name': 'testrun_16_01_2021_02:51:07',\n",
            " 'num_bases': -1,\n",
            " 'num_filt': 200,\n",
            " 'num_workers': 10,\n",
            " 'opn': 'mult',\n",
            " 'restore': False,\n",
            " 'score_func': 'conve',\n",
            " 'seed': 41504}\n",
            "2021-01-16 02:51:15,491 - [INFO] - [E:0| 0]: Train Loss:0.97364,  Val MRR:0.0\ttestrun_16_01_2021_02:51:07\n",
            "2021-01-16 02:51:27,174 - [INFO] - [E:0| 100]: Train Loss:0.15614,  Val MRR:0.0\ttestrun_16_01_2021_02:51:07\n",
            "2021-01-16 02:51:38,949 - [INFO] - [E:0| 200]: Train Loss:0.083783,  Val MRR:0.0\ttestrun_16_01_2021_02:51:07\n",
            "2021-01-16 02:51:50,859 - [INFO] - [E:0| 300]: Train Loss:0.057781,  Val MRR:0.0\ttestrun_16_01_2021_02:51:07\n",
            "2021-01-16 02:52:02,620 - [INFO] - [E:0| 400]: Train Loss:0.044383,  Val MRR:0.0\ttestrun_16_01_2021_02:51:07\n",
            "2021-01-16 02:52:14,303 - [INFO] - [E:0| 500]: Train Loss:0.036206,  Val MRR:0.0\ttestrun_16_01_2021_02:51:07\n",
            "2021-01-16 02:52:25,890 - [INFO] - [E:0| 600]: Train Loss:0.030675,  Val MRR:0.0\ttestrun_16_01_2021_02:51:07\n",
            "2021-01-16 02:52:37,526 - [INFO] - [E:0| 700]: Train Loss:0.026714,  Val MRR:0.0\ttestrun_16_01_2021_02:51:07\n",
            "2021-01-16 02:52:49,288 - [INFO] - [E:0| 800]: Train Loss:0.023729,  Val MRR:0.0\ttestrun_16_01_2021_02:51:07\n",
            "2021-01-16 02:53:01,082 - [INFO] - [E:0| 900]: Train Loss:0.021378,  Val MRR:0.0\ttestrun_16_01_2021_02:51:07\n",
            "2021-01-16 02:53:12,808 - [INFO] - [E:0| 1000]: Train Loss:0.019507,  Val MRR:0.0\ttestrun_16_01_2021_02:51:07\n",
            "2021-01-16 02:53:24,505 - [INFO] - [E:0| 1100]: Train Loss:0.017973,  Val MRR:0.0\ttestrun_16_01_2021_02:51:07\n",
            "2021-01-16 02:53:32,742 - [INFO] - [Epoch:0]:  Training Loss:0.01706\n",
            "\n",
            "2021-01-16 02:53:33,292 - [INFO] - [Valid, Tail_Batch Step 0]\ttestrun_16_01_2021_02:51:07\n",
            "2021-01-16 02:53:37,759 - [INFO] - [Valid, Tail_Batch Step 100]\ttestrun_16_01_2021_02:51:07\n",
            "2021-01-16 02:53:40,369 - [INFO] - [Valid, Head_Batch Step 0]\ttestrun_16_01_2021_02:51:07\n",
            "2021-01-16 02:53:44,927 - [INFO] - [Valid, Head_Batch Step 100]\ttestrun_16_01_2021_02:51:07\n",
            "2021-01-16 02:53:46,724 - [INFO] - [Epoch 0 valid]: MRR: Tail : 0.19766, Head : 0.02156, Avg : 0.10961\n",
            "2021-01-16 02:53:46,997 - [INFO] - [Epoch 0]: Training Loss: 0.01706, Valid MRR: 0.10961\n",
            "\n",
            "\n",
            "2021-01-16 02:53:47,878 - [INFO] - [E:1| 0]: Train Loss:0.0021803,  Val MRR:0.10961\ttestrun_16_01_2021_02:51:07\n",
            "2021-01-16 02:53:59,547 - [INFO] - [E:1| 100]: Train Loss:0.002549,  Val MRR:0.10961\ttestrun_16_01_2021_02:51:07\n",
            "2021-01-16 02:54:11,298 - [INFO] - [E:1| 200]: Train Loss:0.002546,  Val MRR:0.10961\ttestrun_16_01_2021_02:51:07\n",
            "2021-01-16 02:54:23,052 - [INFO] - [E:1| 300]: Train Loss:0.0024878,  Val MRR:0.10961\ttestrun_16_01_2021_02:51:07\n",
            "2021-01-16 02:54:34,835 - [INFO] - [E:1| 400]: Train Loss:0.0024506,  Val MRR:0.10961\ttestrun_16_01_2021_02:51:07\n",
            "2021-01-16 02:54:46,610 - [INFO] - [E:1| 500]: Train Loss:0.0024431,  Val MRR:0.10961\ttestrun_16_01_2021_02:51:07\n",
            "2021-01-16 02:54:58,301 - [INFO] - [E:1| 600]: Train Loss:0.0024192,  Val MRR:0.10961\ttestrun_16_01_2021_02:51:07\n",
            "2021-01-16 02:55:10,020 - [INFO] - [E:1| 700]: Train Loss:0.0023972,  Val MRR:0.10961\ttestrun_16_01_2021_02:51:07\n",
            "2021-01-16 02:55:21,600 - [INFO] - [E:1| 800]: Train Loss:0.0023756,  Val MRR:0.10961\ttestrun_16_01_2021_02:51:07\n",
            "2021-01-16 02:55:33,252 - [INFO] - [E:1| 900]: Train Loss:0.0023592,  Val MRR:0.10961\ttestrun_16_01_2021_02:51:07\n",
            "2021-01-16 02:55:44,916 - [INFO] - [E:1| 1000]: Train Loss:0.0023392,  Val MRR:0.10961\ttestrun_16_01_2021_02:51:07\n",
            "2021-01-16 02:55:56,600 - [INFO] - [E:1| 1100]: Train Loss:0.0023214,  Val MRR:0.10961\ttestrun_16_01_2021_02:51:07\n",
            "2021-01-16 02:56:04,823 - [INFO] - [Epoch:1]:  Training Loss:0.002312\n",
            "\n",
            "2021-01-16 02:56:05,330 - [INFO] - [Valid, Tail_Batch Step 0]\ttestrun_16_01_2021_02:51:07\n",
            "2021-01-16 02:56:09,873 - [INFO] - [Valid, Tail_Batch Step 100]\ttestrun_16_01_2021_02:51:07\n",
            "2021-01-16 02:56:12,147 - [INFO] - [Valid, Head_Batch Step 0]\ttestrun_16_01_2021_02:51:07\n",
            "2021-01-16 02:56:17,148 - [INFO] - [Valid, Head_Batch Step 100]\ttestrun_16_01_2021_02:51:07\n",
            "2021-01-16 02:56:18,951 - [INFO] - [Epoch 1 valid]: MRR: Tail : 0.2509, Head : 0.07887, Avg : 0.16489\n",
            "2021-01-16 02:56:19,254 - [INFO] - [Epoch 1]: Training Loss: 0.0023117, Valid MRR: 0.16489\n",
            "\n",
            "\n",
            "2021-01-16 02:56:19,255 - [INFO] - Loading best model, Evaluating on Test data\n",
            "2021-01-16 02:56:20,052 - [INFO] - [Test, Tail_Batch Step 0]\ttestrun_16_01_2021_02:51:07\n",
            "2021-01-16 02:56:24,473 - [INFO] - [Test, Tail_Batch Step 100]\ttestrun_16_01_2021_02:51:07\n",
            "2021-01-16 02:56:28,035 - [INFO] - [Test, Head_Batch Step 0]\ttestrun_16_01_2021_02:51:07\n",
            "2021-01-16 02:56:32,660 - [INFO] - [Test, Head_Batch Step 100]\ttestrun_16_01_2021_02:51:07\n",
            "2021-01-16 02:56:35,498 - [INFO] - [Epoch 1 test]: MRR: Tail : 0.2478, Head : 0.07876, Avg : 0.16328\n"
          ],
          "name": "stdout"
        }
      ]
    },
    {
      "cell_type": "code",
      "metadata": {
        "id": "oVo4UsM1MWLo",
        "colab": {
          "base_uri": "https://localhost:8080/"
        },
        "outputId": "f5b43552-5cba-4dc0-f60d-7ff9abc71fc9"
      },
      "source": [
        "# CompGCN (Composition: Circular Correlation)\n",
        "! python run.py -score_func conve -opn corr -epoch 2"
      ],
      "execution_count": null,
      "outputs": [
        {
          "output_type": "stream",
          "text": [
            "2021-01-16 02:56:37,100 - [INFO] - {'name': 'testrun_16_01_2021_02:56:37', 'dataset': 'FB15k-237', 'model': 'compgcn', 'score_func': 'conve', 'opn': 'corr', 'batch_size': 128, 'gamma': 40.0, 'gpu': '0', 'max_epochs': 2, 'l2': 0.0, 'lr': 0.001, 'lbl_smooth': 0.1, 'num_workers': 10, 'seed': 41504, 'restore': False, 'bias': False, 'num_bases': -1, 'init_dim': 100, 'gcn_dim': 200, 'embed_dim': None, 'gcn_layer': 1, 'dropout': 0.1, 'hid_drop': 0.3, 'hid_drop2': 0.3, 'feat_drop': 0.3, 'k_w': 10, 'k_h': 20, 'num_filt': 200, 'ker_sz': 7, 'log_dir': './log/', 'config_dir': './config/'}\n",
            "{'batch_size': 128,\n",
            " 'bias': False,\n",
            " 'config_dir': './config/',\n",
            " 'dataset': 'FB15k-237',\n",
            " 'dropout': 0.1,\n",
            " 'embed_dim': None,\n",
            " 'feat_drop': 0.3,\n",
            " 'gamma': 40.0,\n",
            " 'gcn_dim': 200,\n",
            " 'gcn_layer': 1,\n",
            " 'gpu': '0',\n",
            " 'hid_drop': 0.3,\n",
            " 'hid_drop2': 0.3,\n",
            " 'init_dim': 100,\n",
            " 'k_h': 20,\n",
            " 'k_w': 10,\n",
            " 'ker_sz': 7,\n",
            " 'l2': 0.0,\n",
            " 'lbl_smooth': 0.1,\n",
            " 'log_dir': './log/',\n",
            " 'lr': 0.001,\n",
            " 'max_epochs': 2,\n",
            " 'model': 'compgcn',\n",
            " 'name': 'testrun_16_01_2021_02:56:37',\n",
            " 'num_bases': -1,\n",
            " 'num_filt': 200,\n",
            " 'num_workers': 10,\n",
            " 'opn': 'corr',\n",
            " 'restore': False,\n",
            " 'score_func': 'conve',\n",
            " 'seed': 41504}\n",
            "/content/CompGCN/helper.py:94: UserWarning: The function torch.rfft is deprecated and will be removed in a future PyTorch release. Use the new torch.fft module functions, instead, by importing torch.fft and calling torch.fft.fft or torch.fft.rfft. (Triggered internally at  /pytorch/aten/src/ATen/native/SpectralOps.cpp:590.)\n",
            "  return torch.irfft(com_mult(conj(torch.rfft(a, 1)), torch.rfft(b, 1)), 1, signal_sizes=(a.shape[-1],))\n",
            "/content/CompGCN/helper.py:94: UserWarning: The function torch.irfft is deprecated and will be removed in a future PyTorch release. Use the new torch.fft module functions, instead, by importing torch.fft and calling torch.fft.ifft or torch.fft.irfft. (Triggered internally at  /pytorch/aten/src/ATen/native/SpectralOps.cpp:602.)\n",
            "  return torch.irfft(com_mult(conj(torch.rfft(a, 1)), torch.rfft(b, 1)), 1, signal_sizes=(a.shape[-1],))\n",
            "2021-01-16 02:56:45,401 - [INFO] - [E:0| 0]: Train Loss:3.4444,  Val MRR:0.0\ttestrun_16_01_2021_02:56:37\n",
            "2021-01-16 02:57:08,618 - [INFO] - [E:0| 100]: Train Loss:0.4127,  Val MRR:0.0\ttestrun_16_01_2021_02:56:37\n",
            "2021-01-16 02:57:31,911 - [INFO] - [E:0| 200]: Train Loss:0.21958,  Val MRR:0.0\ttestrun_16_01_2021_02:56:37\n",
            "2021-01-16 02:57:55,090 - [INFO] - [E:0| 300]: Train Loss:0.15008,  Val MRR:0.0\ttestrun_16_01_2021_02:56:37\n",
            "2021-01-16 02:58:18,264 - [INFO] - [E:0| 400]: Train Loss:0.11445,  Val MRR:0.0\ttestrun_16_01_2021_02:56:37\n",
            "2021-01-16 02:58:41,490 - [INFO] - [E:0| 500]: Train Loss:0.092809,  Val MRR:0.0\ttestrun_16_01_2021_02:56:37\n",
            "2021-01-16 02:59:04,688 - [INFO] - [E:0| 600]: Train Loss:0.078249,  Val MRR:0.0\ttestrun_16_01_2021_02:56:37\n",
            "2021-01-16 02:59:27,901 - [INFO] - [E:0| 700]: Train Loss:0.067833,  Val MRR:0.0\ttestrun_16_01_2021_02:56:37\n",
            "2021-01-16 02:59:51,121 - [INFO] - [E:0| 800]: Train Loss:0.059983,  Val MRR:0.0\ttestrun_16_01_2021_02:56:37\n",
            "2021-01-16 03:00:14,297 - [INFO] - [E:0| 900]: Train Loss:0.053821,  Val MRR:0.0\ttestrun_16_01_2021_02:56:37\n",
            "2021-01-16 03:00:37,489 - [INFO] - [E:0| 1000]: Train Loss:0.048904,  Val MRR:0.0\ttestrun_16_01_2021_02:56:37\n",
            "2021-01-16 03:01:00,684 - [INFO] - [E:0| 1100]: Train Loss:0.044885,  Val MRR:0.0\ttestrun_16_01_2021_02:56:37\n",
            "2021-01-16 03:01:16,837 - [INFO] - [Epoch:0]:  Training Loss:0.04249\n",
            "\n",
            "2021-01-16 03:01:17,400 - [INFO] - [Valid, Tail_Batch Step 0]\ttestrun_16_01_2021_02:56:37\n",
            "2021-01-16 03:01:24,778 - [INFO] - [Valid, Tail_Batch Step 100]\ttestrun_16_01_2021_02:56:37\n",
            "2021-01-16 03:01:28,248 - [INFO] - [Valid, Head_Batch Step 0]\ttestrun_16_01_2021_02:56:37\n",
            "2021-01-16 03:01:35,794 - [INFO] - [Valid, Head_Batch Step 100]\ttestrun_16_01_2021_02:56:37\n",
            "2021-01-16 03:01:38,633 - [INFO] - [Epoch 0 valid]: MRR: Tail : 0.02421, Head : 0.00315, Avg : 0.01368\n",
            "2021-01-16 03:01:38,908 - [INFO] - [Epoch 0]: Training Loss: 0.042494, Valid MRR: 0.01368\n",
            "\n",
            "\n",
            "2021-01-16 03:01:39,864 - [INFO] - [E:1| 0]: Train Loss:0.0037853,  Val MRR:0.01368\ttestrun_16_01_2021_02:56:37\n",
            "2021-01-16 03:02:03,104 - [INFO] - [E:1| 100]: Train Loss:0.0044054,  Val MRR:0.01368\ttestrun_16_01_2021_02:56:37\n",
            "2021-01-16 03:02:26,384 - [INFO] - [E:1| 200]: Train Loss:0.0044469,  Val MRR:0.01368\ttestrun_16_01_2021_02:56:37\n",
            "2021-01-16 03:02:49,649 - [INFO] - [E:1| 300]: Train Loss:0.0043349,  Val MRR:0.01368\ttestrun_16_01_2021_02:56:37\n",
            "2021-01-16 03:03:12,856 - [INFO] - [E:1| 400]: Train Loss:0.0042733,  Val MRR:0.01368\ttestrun_16_01_2021_02:56:37\n",
            "2021-01-16 03:03:36,080 - [INFO] - [E:1| 500]: Train Loss:0.0042448,  Val MRR:0.01368\ttestrun_16_01_2021_02:56:37\n",
            "2021-01-16 03:03:59,252 - [INFO] - [E:1| 600]: Train Loss:0.0041926,  Val MRR:0.01368\ttestrun_16_01_2021_02:56:37\n",
            "2021-01-16 03:04:22,446 - [INFO] - [E:1| 700]: Train Loss:0.0041335,  Val MRR:0.01368\ttestrun_16_01_2021_02:56:37\n",
            "2021-01-16 03:04:45,650 - [INFO] - [E:1| 800]: Train Loss:0.0040806,  Val MRR:0.01368\ttestrun_16_01_2021_02:56:37\n",
            "2021-01-16 03:05:08,920 - [INFO] - [E:1| 900]: Train Loss:0.0040354,  Val MRR:0.01368\ttestrun_16_01_2021_02:56:37\n",
            "2021-01-16 03:05:32,124 - [INFO] - [E:1| 1000]: Train Loss:0.003982,  Val MRR:0.01368\ttestrun_16_01_2021_02:56:37\n",
            "2021-01-16 03:05:55,282 - [INFO] - [E:1| 1100]: Train Loss:0.0039361,  Val MRR:0.01368\ttestrun_16_01_2021_02:56:37\n",
            "2021-01-16 03:06:11,432 - [INFO] - [Epoch:1]:  Training Loss:0.00391\n",
            "\n",
            "2021-01-16 03:06:12,047 - [INFO] - [Valid, Tail_Batch Step 0]\ttestrun_16_01_2021_02:56:37\n",
            "2021-01-16 03:06:19,391 - [INFO] - [Valid, Tail_Batch Step 100]\ttestrun_16_01_2021_02:56:37\n",
            "2021-01-16 03:06:22,779 - [INFO] - [Valid, Head_Batch Step 0]\ttestrun_16_01_2021_02:56:37\n",
            "2021-01-16 03:06:30,401 - [INFO] - [Valid, Head_Batch Step 100]\ttestrun_16_01_2021_02:56:37\n",
            "2021-01-16 03:06:33,222 - [INFO] - [Epoch 1 valid]: MRR: Tail : 0.02861, Head : 0.0038, Avg : 0.01621\n",
            "2021-01-16 03:06:33,525 - [INFO] - [Epoch 1]: Training Loss: 0.0039098, Valid MRR: 0.01621\n",
            "\n",
            "\n",
            "2021-01-16 03:06:33,525 - [INFO] - Loading best model, Evaluating on Test data\n",
            "2021-01-16 03:06:34,291 - [INFO] - [Test, Tail_Batch Step 0]\ttestrun_16_01_2021_02:56:37\n",
            "2021-01-16 03:06:41,627 - [INFO] - [Test, Tail_Batch Step 100]\ttestrun_16_01_2021_02:56:37\n",
            "2021-01-16 03:06:46,748 - [INFO] - [Test, Head_Batch Step 0]\ttestrun_16_01_2021_02:56:37\n",
            "2021-01-16 03:06:54,336 - [INFO] - [Test, Head_Batch Step 100]\ttestrun_16_01_2021_02:56:37\n",
            "2021-01-16 03:06:58,891 - [INFO] - [Epoch 1 test]: MRR: Tail : 0.03022, Head : 0.00437, Avg : 0.0173\n"
          ],
          "name": "stdout"
        }
      ]
    },
    {
      "cell_type": "code",
      "metadata": {
        "id": "LLWrRxngMaMz",
        "colab": {
          "base_uri": "https://localhost:8080/"
        },
        "outputId": "f2ba1d1b-8636-4799-a88b-327fbd99ab50"
      },
      "source": [
        "##### Overall BEST:\n",
        "! python run.py -name best_model -score_func conve -opn corr -epoch 2"
      ],
      "execution_count": null,
      "outputs": [
        {
          "output_type": "stream",
          "text": [
            "2021-01-16 03:07:00,658 - [INFO] - {'name': 'best_model_16_01_2021_03:07:00', 'dataset': 'FB15k-237', 'model': 'compgcn', 'score_func': 'conve', 'opn': 'corr', 'batch_size': 128, 'gamma': 40.0, 'gpu': '0', 'max_epochs': 2, 'l2': 0.0, 'lr': 0.001, 'lbl_smooth': 0.1, 'num_workers': 10, 'seed': 41504, 'restore': False, 'bias': False, 'num_bases': -1, 'init_dim': 100, 'gcn_dim': 200, 'embed_dim': None, 'gcn_layer': 1, 'dropout': 0.1, 'hid_drop': 0.3, 'hid_drop2': 0.3, 'feat_drop': 0.3, 'k_w': 10, 'k_h': 20, 'num_filt': 200, 'ker_sz': 7, 'log_dir': './log/', 'config_dir': './config/'}\n",
            "{'batch_size': 128,\n",
            " 'bias': False,\n",
            " 'config_dir': './config/',\n",
            " 'dataset': 'FB15k-237',\n",
            " 'dropout': 0.1,\n",
            " 'embed_dim': None,\n",
            " 'feat_drop': 0.3,\n",
            " 'gamma': 40.0,\n",
            " 'gcn_dim': 200,\n",
            " 'gcn_layer': 1,\n",
            " 'gpu': '0',\n",
            " 'hid_drop': 0.3,\n",
            " 'hid_drop2': 0.3,\n",
            " 'init_dim': 100,\n",
            " 'k_h': 20,\n",
            " 'k_w': 10,\n",
            " 'ker_sz': 7,\n",
            " 'l2': 0.0,\n",
            " 'lbl_smooth': 0.1,\n",
            " 'log_dir': './log/',\n",
            " 'lr': 0.001,\n",
            " 'max_epochs': 2,\n",
            " 'model': 'compgcn',\n",
            " 'name': 'best_model_16_01_2021_03:07:00',\n",
            " 'num_bases': -1,\n",
            " 'num_filt': 200,\n",
            " 'num_workers': 10,\n",
            " 'opn': 'corr',\n",
            " 'restore': False,\n",
            " 'score_func': 'conve',\n",
            " 'seed': 41504}\n",
            "/content/CompGCN/helper.py:94: UserWarning: The function torch.rfft is deprecated and will be removed in a future PyTorch release. Use the new torch.fft module functions, instead, by importing torch.fft and calling torch.fft.fft or torch.fft.rfft. (Triggered internally at  /pytorch/aten/src/ATen/native/SpectralOps.cpp:590.)\n",
            "  return torch.irfft(com_mult(conj(torch.rfft(a, 1)), torch.rfft(b, 1)), 1, signal_sizes=(a.shape[-1],))\n",
            "/content/CompGCN/helper.py:94: UserWarning: The function torch.irfft is deprecated and will be removed in a future PyTorch release. Use the new torch.fft module functions, instead, by importing torch.fft and calling torch.fft.ifft or torch.fft.irfft. (Triggered internally at  /pytorch/aten/src/ATen/native/SpectralOps.cpp:602.)\n",
            "  return torch.irfft(com_mult(conj(torch.rfft(a, 1)), torch.rfft(b, 1)), 1, signal_sizes=(a.shape[-1],))\n",
            "2021-01-16 03:07:09,076 - [INFO] - [E:0| 0]: Train Loss:3.4444,  Val MRR:0.0\tbest_model_16_01_2021_03:07:00\n",
            "2021-01-16 03:07:32,350 - [INFO] - [E:0| 100]: Train Loss:0.4127,  Val MRR:0.0\tbest_model_16_01_2021_03:07:00\n",
            "2021-01-16 03:07:55,641 - [INFO] - [E:0| 200]: Train Loss:0.21959,  Val MRR:0.0\tbest_model_16_01_2021_03:07:00\n",
            "2021-01-16 03:08:18,861 - [INFO] - [E:0| 300]: Train Loss:0.15009,  Val MRR:0.0\tbest_model_16_01_2021_03:07:00\n",
            "2021-01-16 03:08:41,947 - [INFO] - [E:0| 400]: Train Loss:0.11445,  Val MRR:0.0\tbest_model_16_01_2021_03:07:00\n",
            "2021-01-16 03:09:05,158 - [INFO] - [E:0| 500]: Train Loss:0.092811,  Val MRR:0.0\tbest_model_16_01_2021_03:07:00\n",
            "2021-01-16 03:09:28,354 - [INFO] - [E:0| 600]: Train Loss:0.07825,  Val MRR:0.0\tbest_model_16_01_2021_03:07:00\n",
            "2021-01-16 03:09:51,553 - [INFO] - [E:0| 700]: Train Loss:0.067834,  Val MRR:0.0\tbest_model_16_01_2021_03:07:00\n",
            "2021-01-16 03:10:14,728 - [INFO] - [E:0| 800]: Train Loss:0.059983,  Val MRR:0.0\tbest_model_16_01_2021_03:07:00\n",
            "2021-01-16 03:10:37,921 - [INFO] - [E:0| 900]: Train Loss:0.053822,  Val MRR:0.0\tbest_model_16_01_2021_03:07:00\n",
            "2021-01-16 03:11:01,130 - [INFO] - [E:0| 1000]: Train Loss:0.048904,  Val MRR:0.0\tbest_model_16_01_2021_03:07:00\n",
            "2021-01-16 03:11:24,279 - [INFO] - [E:0| 1100]: Train Loss:0.044886,  Val MRR:0.0\tbest_model_16_01_2021_03:07:00\n",
            "2021-01-16 03:11:40,423 - [INFO] - [Epoch:0]:  Training Loss:0.0425\n",
            "\n",
            "2021-01-16 03:11:40,989 - [INFO] - [Valid, Tail_Batch Step 0]\tbest_model_16_01_2021_03:07:00\n",
            "2021-01-16 03:11:48,386 - [INFO] - [Valid, Tail_Batch Step 100]\tbest_model_16_01_2021_03:07:00\n",
            "2021-01-16 03:11:52,091 - [INFO] - [Valid, Head_Batch Step 0]\tbest_model_16_01_2021_03:07:00\n",
            "2021-01-16 03:11:59,431 - [INFO] - [Valid, Head_Batch Step 100]\tbest_model_16_01_2021_03:07:00\n",
            "2021-01-16 03:12:02,250 - [INFO] - [Epoch 0 valid]: MRR: Tail : 0.02246, Head : 0.00303, Avg : 0.01274\n",
            "2021-01-16 03:12:02,532 - [INFO] - [Epoch 0]: Training Loss: 0.042496, Valid MRR: 0.01274\n",
            "\n",
            "\n",
            "2021-01-16 03:12:03,320 - [INFO] - [E:1| 0]: Train Loss:0.003779,  Val MRR:0.01274\tbest_model_16_01_2021_03:07:00\n",
            "2021-01-16 03:12:26,520 - [INFO] - [E:1| 100]: Train Loss:0.0044292,  Val MRR:0.01274\tbest_model_16_01_2021_03:07:00\n",
            "2021-01-16 03:12:49,758 - [INFO] - [E:1| 200]: Train Loss:0.0044736,  Val MRR:0.01274\tbest_model_16_01_2021_03:07:00\n",
            "2021-01-16 03:13:13,013 - [INFO] - [E:1| 300]: Train Loss:0.0043482,  Val MRR:0.01274\tbest_model_16_01_2021_03:07:00\n",
            "2021-01-16 03:13:36,210 - [INFO] - [E:1| 400]: Train Loss:0.004284,  Val MRR:0.01274\tbest_model_16_01_2021_03:07:00\n",
            "2021-01-16 03:13:59,485 - [INFO] - [E:1| 500]: Train Loss:0.0042632,  Val MRR:0.01274\tbest_model_16_01_2021_03:07:00\n",
            "2021-01-16 03:14:22,693 - [INFO] - [E:1| 600]: Train Loss:0.0042037,  Val MRR:0.01274\tbest_model_16_01_2021_03:07:00\n",
            "2021-01-16 03:14:45,853 - [INFO] - [E:1| 700]: Train Loss:0.0041421,  Val MRR:0.01274\tbest_model_16_01_2021_03:07:00\n",
            "2021-01-16 03:15:09,085 - [INFO] - [E:1| 800]: Train Loss:0.0040889,  Val MRR:0.01274\tbest_model_16_01_2021_03:07:00\n",
            "2021-01-16 03:15:32,293 - [INFO] - [E:1| 900]: Train Loss:0.0040422,  Val MRR:0.01274\tbest_model_16_01_2021_03:07:00\n",
            "2021-01-16 03:15:55,472 - [INFO] - [E:1| 1000]: Train Loss:0.0039895,  Val MRR:0.01274\tbest_model_16_01_2021_03:07:00\n",
            "2021-01-16 03:16:18,630 - [INFO] - [E:1| 1100]: Train Loss:0.0039426,  Val MRR:0.01274\tbest_model_16_01_2021_03:07:00\n",
            "2021-01-16 03:16:34,783 - [INFO] - [Epoch:1]:  Training Loss:0.003915\n",
            "\n",
            "2021-01-16 03:16:35,387 - [INFO] - [Valid, Tail_Batch Step 0]\tbest_model_16_01_2021_03:07:00\n",
            "2021-01-16 03:16:42,760 - [INFO] - [Valid, Tail_Batch Step 100]\tbest_model_16_01_2021_03:07:00\n",
            "2021-01-16 03:16:46,416 - [INFO] - [Valid, Head_Batch Step 0]\tbest_model_16_01_2021_03:07:00\n",
            "2021-01-16 03:16:53,745 - [INFO] - [Valid, Head_Batch Step 100]\tbest_model_16_01_2021_03:07:00\n",
            "2021-01-16 03:16:56,563 - [INFO] - [Epoch 1 valid]: MRR: Tail : 0.02379, Head : 0.00358, Avg : 0.01368\n",
            "2021-01-16 03:16:56,872 - [INFO] - [Epoch 1]: Training Loss: 0.0039147, Valid MRR: 0.01368\n",
            "\n",
            "\n",
            "2021-01-16 03:16:56,873 - [INFO] - Loading best model, Evaluating on Test data\n",
            "2021-01-16 03:16:57,580 - [INFO] - [Test, Tail_Batch Step 0]\tbest_model_16_01_2021_03:07:00\n",
            "2021-01-16 03:17:04,943 - [INFO] - [Test, Tail_Batch Step 100]\tbest_model_16_01_2021_03:07:00\n",
            "2021-01-16 03:17:10,029 - [INFO] - [Test, Head_Batch Step 0]\tbest_model_16_01_2021_03:07:00\n",
            "2021-01-16 03:17:17,531 - [INFO] - [Test, Head_Batch Step 100]\tbest_model_16_01_2021_03:07:00\n",
            "2021-01-16 03:17:22,067 - [INFO] - [Epoch 1 test]: MRR: Tail : 0.02618, Head : 0.00371, Avg : 0.01494\n"
          ],
          "name": "stdout"
        }
      ]
    }
  ]
}