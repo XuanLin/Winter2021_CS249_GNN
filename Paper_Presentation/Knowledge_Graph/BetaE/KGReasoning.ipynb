{
  "nbformat": 4,
  "nbformat_minor": 0,
  "metadata": {
    "colab": {
      "name": "Untitled0.ipynb",
      "provenance": []
    },
    "kernelspec": {
      "name": "python3",
      "display_name": "Python 3"
    },
    "accelerator": "GPU"
  },
  "cells": [
    {
      "cell_type": "markdown",
      "metadata": {
        "id": "eFdkPAw6s3wB"
      },
      "source": [
        ""
      ]
    },
    {
      "cell_type": "code",
      "metadata": {
        "colab": {
          "base_uri": "https://localhost:8080/"
        },
        "id": "X-VElHh3sDyt",
        "outputId": "40f84bff-97d7-4709-f4af-f37073ecd948"
      },
      "source": [
        "!nvidia-smi"
      ],
      "execution_count": 10,
      "outputs": [
        {
          "output_type": "stream",
          "text": [
            "Mon Jan 25 23:45:53 2021       \n",
            "+-----------------------------------------------------------------------------+\n",
            "| NVIDIA-SMI 460.32.03    Driver Version: 418.67       CUDA Version: 10.1     |\n",
            "|-------------------------------+----------------------+----------------------+\n",
            "| GPU  Name        Persistence-M| Bus-Id        Disp.A | Volatile Uncorr. ECC |\n",
            "| Fan  Temp  Perf  Pwr:Usage/Cap|         Memory-Usage | GPU-Util  Compute M. |\n",
            "|                               |                      |               MIG M. |\n",
            "|===============================+======================+======================|\n",
            "|   0  Tesla T4            Off  | 00000000:00:04.0 Off |                    0 |\n",
            "| N/A   36C    P8     9W /  70W |      0MiB / 15079MiB |      0%      Default |\n",
            "|                               |                      |                 ERR! |\n",
            "+-------------------------------+----------------------+----------------------+\n",
            "                                                                               \n",
            "+-----------------------------------------------------------------------------+\n",
            "| Processes:                                                                  |\n",
            "|  GPU   GI   CI        PID   Type   Process name                  GPU Memory |\n",
            "|        ID   ID                                                   Usage      |\n",
            "|=============================================================================|\n",
            "|  No running processes found                                                 |\n",
            "+-----------------------------------------------------------------------------+\n"
          ],
          "name": "stdout"
        }
      ]
    },
    {
      "cell_type": "markdown",
      "metadata": {
        "id": "Yx2UxJXFs240"
      },
      "source": [
        ""
      ]
    },
    {
      "cell_type": "code",
      "metadata": {
        "colab": {
          "base_uri": "https://localhost:8080/"
        },
        "id": "xhB7XxENsL6B",
        "outputId": "f3a791d0-9c58-4a64-f1c3-0965a99ea1ee"
      },
      "source": [
        "!python --version"
      ],
      "execution_count": 11,
      "outputs": [
        {
          "output_type": "stream",
          "text": [
            "Python 3.6.9\n"
          ],
          "name": "stdout"
        }
      ]
    },
    {
      "cell_type": "code",
      "metadata": {
        "colab": {
          "base_uri": "https://localhost:8080/"
        },
        "id": "RA9ywyZztGa1",
        "outputId": "ef7420a7-dc2e-46dc-ffb3-12dcb74da1e0"
      },
      "source": [
        "!git clone https://github.com/snap-stanford/KGReasoning.git"
      ],
      "execution_count": 12,
      "outputs": [
        {
          "output_type": "stream",
          "text": [
            "Cloning into 'KGReasoning'...\n",
            "remote: Enumerating objects: 23, done.\u001b[K\n",
            "remote: Counting objects: 100% (23/23), done.\u001b[K\n",
            "remote: Compressing objects: 100% (18/18), done.\u001b[K\n",
            "remote: Total 23 (delta 5), reused 12 (delta 2), pack-reused 0\u001b[K\n",
            "Unpacking objects: 100% (23/23), done.\n"
          ],
          "name": "stdout"
        }
      ]
    },
    {
      "cell_type": "code",
      "metadata": {
        "colab": {
          "base_uri": "https://localhost:8080/"
        },
        "id": "ehLRCy6q6T86",
        "outputId": "df61e79c-8dda-46f0-cc54-93fd4cf2c532"
      },
      "source": [
        "%cd KGReasoning/"
      ],
      "execution_count": 13,
      "outputs": [
        {
          "output_type": "stream",
          "text": [
            "/root/KGReasoning\n"
          ],
          "name": "stdout"
        }
      ]
    },
    {
      "cell_type": "code",
      "metadata": {
        "colab": {
          "base_uri": "https://localhost:8080/"
        },
        "id": "aqWash4KtcLo",
        "outputId": "fe236239-9156-4693-b809-d495406f6d2c"
      },
      "source": [
        "!wget http://snap.stanford.edu/betae/KG_data.zip"
      ],
      "execution_count": 14,
      "outputs": [
        {
          "output_type": "stream",
          "text": [
            "--2021-01-25 23:46:09--  http://snap.stanford.edu/betae/KG_data.zip\n",
            "Resolving snap.stanford.edu (snap.stanford.edu)... 171.64.75.80\n",
            "Connecting to snap.stanford.edu (snap.stanford.edu)|171.64.75.80|:80... connected.\n",
            "HTTP request sent, awaiting response... 200 OK\n",
            "Length: 1360923913 (1.3G) [application/zip]\n",
            "Saving to: ‘KG_data.zip’\n",
            "\n",
            "KG_data.zip         100%[===================>]   1.27G  9.48MB/s    in 3m 42s  \n",
            "\n",
            "2021-01-25 23:49:52 (5.84 MB/s) - ‘KG_data.zip’ saved [1360923913/1360923913]\n",
            "\n"
          ],
          "name": "stdout"
        }
      ]
    },
    {
      "cell_type": "code",
      "metadata": {
        "id": "agou8W_G-Fcs"
      },
      "source": [
        "!mkdir data"
      ],
      "execution_count": 26,
      "outputs": []
    },
    {
      "cell_type": "code",
      "metadata": {
        "id": "claMgNqS-KPT"
      },
      "source": [
        "mv KG_data.zip data"
      ],
      "execution_count": 32,
      "outputs": []
    },
    {
      "cell_type": "code",
      "metadata": {
        "colab": {
          "base_uri": "https://localhost:8080/"
        },
        "id": "KxC7_UCXvsuf",
        "outputId": "ca2e88d4-1030-44ed-c7cd-07e36a5d2713"
      },
      "source": [
        "!unzip KG_data.zip"
      ],
      "execution_count": 36,
      "outputs": [
        {
          "output_type": "stream",
          "text": [
            "Archive:  KG_data.zip\n",
            "   creating: FB15k-237-betae/\n",
            "  inflating: FB15k-237-betae/test-easy-answers.pkl  \n",
            "  inflating: FB15k-237-betae/train-answers.pkl  \n",
            "  inflating: FB15k-237-betae/test-queries.pkl  \n",
            " extracting: FB15k-237-betae/stats.txt  \n",
            "  inflating: FB15k-237-betae/ent2id.pkl  \n",
            "  inflating: FB15k-237-betae/test-hard-answers.pkl  \n",
            "  inflating: FB15k-237-betae/valid.txt  \n",
            "  inflating: FB15k-237-betae/valid-queries.pkl  \n",
            "  inflating: FB15k-237-betae/valid-hard-answers.pkl  \n",
            "  inflating: FB15k-237-betae/train-queries.pkl  \n",
            "  inflating: FB15k-237-betae/id2ent.pkl  \n",
            "  inflating: FB15k-237-betae/rel2id.pkl  \n",
            "  inflating: FB15k-237-betae/id2rel.pkl  \n",
            "  inflating: FB15k-237-betae/valid-easy-answers.pkl  \n",
            "  inflating: FB15k-237-betae/test.txt  \n",
            "  inflating: FB15k-237-betae/train.txt  \n",
            "   creating: FB15k-betae/\n",
            "  inflating: FB15k-betae/valid-hard-answers.pkl  \n",
            "  inflating: FB15k-betae/test-easy-answers.pkl  \n",
            "  inflating: FB15k-betae/test-hard-answers.pkl  \n",
            " extracting: FB15k-betae/stats.txt   \n",
            "  inflating: FB15k-betae/train-queries.pkl  \n",
            "  inflating: FB15k-betae/valid-queries.pkl  \n",
            "  inflating: FB15k-betae/valid-easy-answers.pkl  \n",
            "  inflating: FB15k-betae/ent2id.pkl  \n",
            "  inflating: FB15k-betae/test.txt    \n",
            "  inflating: FB15k-betae/id2ent.pkl  \n",
            "  inflating: FB15k-betae/valid.txt   \n",
            "  inflating: FB15k-betae/rel2id.pkl  \n",
            "  inflating: FB15k-betae/id2rel.pkl  \n",
            "  inflating: FB15k-betae/test-queries.pkl  \n",
            "  inflating: FB15k-betae/train-answers.pkl  \n",
            "  inflating: FB15k-betae/train.txt   \n",
            "   creating: NELL-betae/\n",
            "  inflating: NELL-betae/test.txt     \n",
            " extracting: NELL-betae/stats.txt    \n",
            "  inflating: NELL-betae/train-queries.pkl  \n",
            "  inflating: NELL-betae/valid-hard-answers.pkl  \n",
            "  inflating: NELL-betae/valid-queries.pkl  \n",
            "  inflating: NELL-betae/id2rel.pkl   \n",
            "  inflating: NELL-betae/rel2id.pkl   \n",
            "  inflating: NELL-betae/id2ent.pkl   \n",
            "  inflating: NELL-betae/valid-easy-answers.pkl  \n",
            "  inflating: NELL-betae/train-answers.pkl  \n",
            "  inflating: NELL-betae/ent2id.pkl   \n",
            "  inflating: NELL-betae/test-hard-answers.pkl  \n",
            "  inflating: NELL-betae/train.txt    \n",
            "  inflating: NELL-betae/test-easy-answers.pkl  \n",
            "  inflating: NELL-betae/test-queries.pkl  \n",
            "  inflating: NELL-betae/valid.txt    \n",
            "   creating: FB15k-237-q2b/\n",
            "  inflating: FB15k-237-q2b/train.txt  \n",
            "  inflating: FB15k-237-q2b/valid-easy-answers.pkl  \n",
            "  inflating: FB15k-237-q2b/test-hard-answers.pkl  \n",
            "  inflating: FB15k-237-q2b/train-answers.pkl  \n",
            "  inflating: FB15k-237-q2b/valid-answers.pkl  \n",
            "  inflating: FB15k-237-q2b/ent2id.pkl  \n",
            "  inflating: FB15k-237-q2b/valid.txt  \n",
            "  inflating: FB15k-237-q2b/test.txt  \n",
            "  inflating: FB15k-237-q2b/test-queries.pkl  \n",
            "  inflating: FB15k-237-q2b/test-easy-answers.pkl  \n",
            "  inflating: FB15k-237-q2b/valid-hard-answers.pkl  \n",
            " extracting: FB15k-237-q2b/stats.txt  \n",
            "  inflating: FB15k-237-q2b/id2ent.pkl  \n",
            "  inflating: FB15k-237-q2b/valid-queries.pkl  \n",
            "  inflating: FB15k-237-q2b/id2rel.pkl  \n",
            "  inflating: FB15k-237-q2b/rel2id.pkl  \n",
            "  inflating: FB15k-237-q2b/train-queries.pkl  \n",
            "  inflating: FB15k-237-q2b/test-answers.pkl  \n",
            "   creating: FB15k-q2b/\n",
            "  inflating: FB15k-q2b/test-easy-answers.pkl  \n",
            "  inflating: FB15k-q2b/valid-queries.pkl  \n",
            "  inflating: FB15k-q2b/train-queries.pkl  \n",
            "  inflating: FB15k-q2b/id2rel.pkl    \n",
            "  inflating: FB15k-q2b/rel2id.pkl    \n",
            "  inflating: FB15k-q2b/id2ent.pkl    \n",
            "  inflating: FB15k-q2b/test-queries.pkl  \n",
            "  inflating: FB15k-q2b/valid.txt     \n",
            "  inflating: FB15k-q2b/train.txt     \n",
            "  inflating: FB15k-q2b/test-hard-answers.pkl  \n",
            "  inflating: FB15k-q2b/test.txt      \n",
            "  inflating: FB15k-q2b/test-answers.pkl  \n",
            "  inflating: FB15k-q2b/train-answers.pkl  \n",
            "  inflating: FB15k-q2b/valid-answers.pkl  \n",
            "  inflating: FB15k-q2b/valid-hard-answers.pkl  \n",
            "  inflating: FB15k-q2b/ent2id.pkl    \n",
            "  inflating: FB15k-q2b/valid-easy-answers.pkl  \n",
            " extracting: FB15k-q2b/stats.txt     \n",
            "   creating: NELL-q2b/\n",
            "  inflating: NELL-q2b/ent2id.pkl     \n",
            " extracting: NELL-q2b/stats.txt      \n",
            "  inflating: NELL-q2b/train-queries.pkl  \n",
            "  inflating: NELL-q2b/valid-queries.pkl  \n",
            "  inflating: NELL-q2b/test-queries.pkl  \n",
            "  inflating: NELL-q2b/train.txt      \n",
            "  inflating: NELL-q2b/test-easy-answers.pkl  \n",
            "  inflating: NELL-q2b/valid-hard-answers.pkl  \n",
            "  inflating: NELL-q2b/test.txt       \n",
            "  inflating: NELL-q2b/valid-answers.pkl  \n",
            "  inflating: NELL-q2b/train-answers.pkl  \n",
            "  inflating: NELL-q2b/valid-easy-answers.pkl  \n",
            "  inflating: NELL-q2b/valid.txt      \n",
            "  inflating: NELL-q2b/test-answers.pkl  \n",
            "  inflating: NELL-q2b/id2rel.pkl     \n",
            "  inflating: NELL-q2b/rel2id.pkl     \n",
            "  inflating: NELL-q2b/test-hard-answers.pkl  \n",
            "  inflating: NELL-q2b/id2ent.pkl     \n"
          ],
          "name": "stdout"
        }
      ]
    },
    {
      "cell_type": "code",
      "metadata": {
        "colab": {
          "base_uri": "https://localhost:8080/"
        },
        "id": "_cBYcH7F5q0G",
        "outputId": "d0fcd0f3-5c5d-4184-e81b-20db9fbb28ce"
      },
      "source": [
        "%ls"
      ],
      "execution_count": 37,
      "outputs": [
        {
          "output_type": "stream",
          "text": [
            "\u001b[0m\u001b[01;34mFB15k-237-betae\u001b[0m/  \u001b[01;34mFB15k-betae\u001b[0m/  KG_data.zip  \u001b[01;34mNELL-q2b\u001b[0m/\n",
            "\u001b[01;34mFB15k-237-q2b\u001b[0m/    \u001b[01;34mFB15k-q2b\u001b[0m/    \u001b[01;34mNELL-betae\u001b[0m/\n"
          ],
          "name": "stdout"
        }
      ]
    },
    {
      "cell_type": "code",
      "metadata": {
        "colab": {
          "base_uri": "https://localhost:8080/"
        },
        "id": "z8wqs-14-3Fw",
        "outputId": "71f69b7a-7d44-452f-a3cf-07cd8e9f5bfe"
      },
      "source": [
        "cd .."
      ],
      "execution_count": 38,
      "outputs": [
        {
          "output_type": "stream",
          "text": [
            "/root/KGReasoning\n"
          ],
          "name": "stdout"
        }
      ]
    },
    {
      "cell_type": "code",
      "metadata": {
        "colab": {
          "base_uri": "https://localhost:8080/"
        },
        "id": "mKK6YEsJ7PJZ",
        "outputId": "dbae927a-0e6f-4abe-ec10-3a53f811c8f7"
      },
      "source": [
        "pip install tensorboardX"
      ],
      "execution_count": 23,
      "outputs": [
        {
          "output_type": "stream",
          "text": [
            "Collecting tensorboardX\n",
            "\u001b[?25l  Downloading https://files.pythonhosted.org/packages/af/0c/4f41bcd45db376e6fe5c619c01100e9b7531c55791b7244815bac6eac32c/tensorboardX-2.1-py2.py3-none-any.whl (308kB)\n",
            "\r\u001b[K     |█                               | 10kB 21.3MB/s eta 0:00:01\r\u001b[K     |██▏                             | 20kB 27.6MB/s eta 0:00:01\r\u001b[K     |███▏                            | 30kB 20.6MB/s eta 0:00:01\r\u001b[K     |████▎                           | 40kB 19.0MB/s eta 0:00:01\r\u001b[K     |█████▎                          | 51kB 20.5MB/s eta 0:00:01\r\u001b[K     |██████▍                         | 61kB 15.8MB/s eta 0:00:01\r\u001b[K     |███████▍                        | 71kB 16.5MB/s eta 0:00:01\r\u001b[K     |████████▌                       | 81kB 17.0MB/s eta 0:00:01\r\u001b[K     |█████████▌                      | 92kB 15.4MB/s eta 0:00:01\r\u001b[K     |██████████▋                     | 102kB 15.6MB/s eta 0:00:01\r\u001b[K     |███████████▊                    | 112kB 15.6MB/s eta 0:00:01\r\u001b[K     |████████████▊                   | 122kB 15.6MB/s eta 0:00:01\r\u001b[K     |█████████████▉                  | 133kB 15.6MB/s eta 0:00:01\r\u001b[K     |██████████████▉                 | 143kB 15.6MB/s eta 0:00:01\r\u001b[K     |████████████████                | 153kB 15.6MB/s eta 0:00:01\r\u001b[K     |█████████████████               | 163kB 15.6MB/s eta 0:00:01\r\u001b[K     |██████████████████              | 174kB 15.6MB/s eta 0:00:01\r\u001b[K     |███████████████████             | 184kB 15.6MB/s eta 0:00:01\r\u001b[K     |████████████████████▏           | 194kB 15.6MB/s eta 0:00:01\r\u001b[K     |█████████████████████▎          | 204kB 15.6MB/s eta 0:00:01\r\u001b[K     |██████████████████████▎         | 215kB 15.6MB/s eta 0:00:01\r\u001b[K     |███████████████████████▍        | 225kB 15.6MB/s eta 0:00:01\r\u001b[K     |████████████████████████▍       | 235kB 15.6MB/s eta 0:00:01\r\u001b[K     |█████████████████████████▌      | 245kB 15.6MB/s eta 0:00:01\r\u001b[K     |██████████████████████████▌     | 256kB 15.6MB/s eta 0:00:01\r\u001b[K     |███████████████████████████▋    | 266kB 15.6MB/s eta 0:00:01\r\u001b[K     |████████████████████████████▋   | 276kB 15.6MB/s eta 0:00:01\r\u001b[K     |█████████████████████████████▊  | 286kB 15.6MB/s eta 0:00:01\r\u001b[K     |██████████████████████████████▊ | 296kB 15.6MB/s eta 0:00:01\r\u001b[K     |███████████████████████████████▉| 307kB 15.6MB/s eta 0:00:01\r\u001b[K     |████████████████████████████████| 317kB 15.6MB/s \n",
            "\u001b[?25hRequirement already satisfied: six in /usr/local/lib/python3.6/dist-packages (from tensorboardX) (1.15.0)\n",
            "Requirement already satisfied: protobuf>=3.8.0 in /usr/local/lib/python3.6/dist-packages (from tensorboardX) (3.12.4)\n",
            "Requirement already satisfied: numpy in /usr/local/lib/python3.6/dist-packages (from tensorboardX) (1.19.5)\n",
            "Requirement already satisfied: setuptools in /usr/local/lib/python3.6/dist-packages (from protobuf>=3.8.0->tensorboardX) (51.3.3)\n",
            "Installing collected packages: tensorboardX\n",
            "Successfully installed tensorboardX-2.1\n"
          ],
          "name": "stdout"
        }
      ]
    },
    {
      "cell_type": "code",
      "metadata": {
        "colab": {
          "base_uri": "https://localhost:8080/"
        },
        "id": "5AIzH_8a9jK2",
        "outputId": "f572de87-9e5a-42ef-fb11-9750692729b1"
      },
      "source": [
        "!python main.py --cuda --do_train --do_valid --do_test \\\n",
        "  --data_path data/FB15k-237-betae -n 128 -b 512 -d 400 -g 60 \\\n",
        "  -lr 0.0001 --max_steps 450001 --cpu_num 1 --geo beta --valid_steps 15000 \\\n",
        "  -betam \"(1600,2)\"\n"
      ],
      "execution_count": 40,
      "outputs": [
        {
          "output_type": "stream",
          "text": [
            "overwritting args.save_path\n",
            "logging to logs/FB15k-237-betae/1p.2p.3p.2i.3i.ip.pi.2in.3in.inp.pin.pni.2u.up/beta/g-60.0-mode-(1600,2)/2021.01.26-04:48:53\n",
            "^C\n"
          ],
          "name": "stdout"
        }
      ]
    }
  ]
}